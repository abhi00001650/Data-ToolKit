{
 "cells": [
  {
   "cell_type": "code",
   "execution_count": 1,
   "id": "ec699177-308a-42aa-ba53-bda2de6960d3",
   "metadata": {},
   "outputs": [],
   "source": [
    "import numpy as np"
   ]
  },
  {
   "cell_type": "code",
   "execution_count": 2,
   "id": "7a9f41a2-d74d-4210-bca7-8ec32c45a9cb",
   "metadata": {},
   "outputs": [
    {
     "data": {
      "text/plain": [
       "array([0., 0., 0., 0., 0.])"
      ]
     },
     "execution_count": 2,
     "metadata": {},
     "output_type": "execute_result"
    }
   ],
   "source": [
    "#all elements as zeros\n",
    "np.zeros(5)"
   ]
  },
  {
   "cell_type": "code",
   "execution_count": 3,
   "id": "7b18e179-3454-4064-a986-0c64a93f1105",
   "metadata": {},
   "outputs": [],
   "source": [
    "a = np.zeros(5)"
   ]
  },
  {
   "cell_type": "code",
   "execution_count": 5,
   "id": "6ca673e1-e05a-4ae4-98d9-a219dbac412d",
   "metadata": {},
   "outputs": [
    {
     "data": {
      "text/plain": [
       "1"
      ]
     },
     "execution_count": 5,
     "metadata": {},
     "output_type": "execute_result"
    }
   ],
   "source": [
    "a.ndim"
   ]
  },
  {
   "cell_type": "code",
   "execution_count": 6,
   "id": "23b90841-49e9-45bb-bb93-1e93bf911864",
   "metadata": {},
   "outputs": [
    {
     "data": {
      "text/plain": [
       "array([0, 0, 0, 0, 0])"
      ]
     },
     "execution_count": 6,
     "metadata": {},
     "output_type": "execute_result"
    }
   ],
   "source": [
    "np.zeros(5, dtype = int)"
   ]
  },
  {
   "cell_type": "code",
   "execution_count": 8,
   "id": "ac8b2188-262d-4060-9840-144ef290bb4c",
   "metadata": {},
   "outputs": [
    {
     "data": {
      "text/plain": [
       "array([[0, 0, 0, 0],\n",
       "       [0, 0, 0, 0],\n",
       "       [0, 0, 0, 0]])"
      ]
     },
     "execution_count": 8,
     "metadata": {},
     "output_type": "execute_result"
    }
   ],
   "source": [
    "#2 dimn zeros\n",
    "np.zeros((3,4) , dtype = int)"
   ]
  },
  {
   "cell_type": "code",
   "execution_count": 9,
   "id": "613641e6-ecb9-4097-a297-3b80d99845f1",
   "metadata": {},
   "outputs": [],
   "source": [
    "b = np.zeros((3,4) , dtype = int)"
   ]
  },
  {
   "cell_type": "code",
   "execution_count": 11,
   "id": "b12c38d8-c962-4f37-8d6e-57c5755e5620",
   "metadata": {},
   "outputs": [
    {
     "data": {
      "text/plain": [
       "2"
      ]
     },
     "execution_count": 11,
     "metadata": {},
     "output_type": "execute_result"
    }
   ],
   "source": [
    "b.ndim"
   ]
  },
  {
   "cell_type": "code",
   "execution_count": 14,
   "id": "61cb8134-5c81-40a7-9185-d78bd0796b67",
   "metadata": {},
   "outputs": [],
   "source": [
    "# for ones in array\n",
    "a = np.ones(5, dtype = int)"
   ]
  },
  {
   "cell_type": "code",
   "execution_count": 15,
   "id": "ef098f71-1033-4d39-9e5c-312b832ffaf5",
   "metadata": {},
   "outputs": [
    {
     "data": {
      "text/plain": [
       "array([1, 1, 1, 1, 1])"
      ]
     },
     "execution_count": 15,
     "metadata": {},
     "output_type": "execute_result"
    }
   ],
   "source": [
    "a"
   ]
  },
  {
   "cell_type": "code",
   "execution_count": 16,
   "id": "2a0a7a42-610f-4393-ae38-a0b81ceddddf",
   "metadata": {},
   "outputs": [
    {
     "data": {
      "text/plain": [
       "array([[1, 1, 1],\n",
       "       [1, 1, 1],\n",
       "       [1, 1, 1]])"
      ]
     },
     "execution_count": 16,
     "metadata": {},
     "output_type": "execute_result"
    }
   ],
   "source": [
    "np.ones((3,3) , dtype = int)"
   ]
  },
  {
   "cell_type": "code",
   "execution_count": 17,
   "id": "895ea6f1-fe44-44c0-acc5-98aaaa311df2",
   "metadata": {},
   "outputs": [
    {
     "data": {
      "text/plain": [
       "array([[2, 2, 2],\n",
       "       [2, 2, 2]])"
      ]
     },
     "execution_count": 17,
     "metadata": {},
     "output_type": "execute_result"
    }
   ],
   "source": [
    "np.array([[2,2,2],[2,2,2]])"
   ]
  },
  {
   "cell_type": "code",
   "execution_count": 19,
   "id": "1809e58f-f7a3-4891-aa50-ccb416404498",
   "metadata": {},
   "outputs": [],
   "source": [
    "arr = np.zeros((3,4))"
   ]
  },
  {
   "cell_type": "code",
   "execution_count": 20,
   "id": "ba93e5b2-bdf9-4e2d-8b55-fffaa43350de",
   "metadata": {},
   "outputs": [
    {
     "data": {
      "text/plain": [
       "2"
      ]
     },
     "execution_count": 20,
     "metadata": {},
     "output_type": "execute_result"
    }
   ],
   "source": [
    "arr.ndim"
   ]
  },
  {
   "cell_type": "code",
   "execution_count": 29,
   "id": "abd1c012-bd16-4042-b1d0-8ff9b86a8c0c",
   "metadata": {},
   "outputs": [],
   "source": [
    "#3-dim array\n",
    "arr = np.zeros((1,3,4))"
   ]
  },
  {
   "cell_type": "code",
   "execution_count": 30,
   "id": "7aecd777-aa3a-429e-b0b2-1cb1fdc29488",
   "metadata": {},
   "outputs": [
    {
     "data": {
      "text/plain": [
       "array([[[0., 0., 0., 0.],\n",
       "        [0., 0., 0., 0.],\n",
       "        [0., 0., 0., 0.]]])"
      ]
     },
     "execution_count": 30,
     "metadata": {},
     "output_type": "execute_result"
    }
   ],
   "source": [
    "arr"
   ]
  },
  {
   "cell_type": "code",
   "execution_count": 24,
   "id": "46aa8a44-5314-4186-996d-190ccfc4c567",
   "metadata": {},
   "outputs": [
    {
     "data": {
      "text/plain": [
       "3"
      ]
     },
     "execution_count": 24,
     "metadata": {},
     "output_type": "execute_result"
    }
   ],
   "source": [
    "arr.ndim"
   ]
  },
  {
   "cell_type": "code",
   "execution_count": 25,
   "id": "746982ca-a00f-4714-be94-206ebfda7262",
   "metadata": {},
   "outputs": [
    {
     "data": {
      "text/plain": [
       "12"
      ]
     },
     "execution_count": 25,
     "metadata": {},
     "output_type": "execute_result"
    }
   ],
   "source": [
    "arr.size"
   ]
  },
  {
   "cell_type": "code",
   "execution_count": 26,
   "id": "eec11296-c354-4029-88b8-760284e405bd",
   "metadata": {},
   "outputs": [
    {
     "data": {
      "text/plain": [
       "(1, 3, 4)"
      ]
     },
     "execution_count": 26,
     "metadata": {},
     "output_type": "execute_result"
    }
   ],
   "source": [
    "arr.shape"
   ]
  },
  {
   "cell_type": "code",
   "execution_count": 35,
   "id": "6da1790b-3245-4007-9e51-e767bc669fb9",
   "metadata": {},
   "outputs": [],
   "source": [
    "arr = np.zeros((3,3,4), dtype = int) # (_,3,4)>> _ refers to 3rd Dimension"
   ]
  },
  {
   "cell_type": "code",
   "execution_count": 36,
   "id": "9180a6e9-312c-4a10-a82b-31b5ee1135e5",
   "metadata": {},
   "outputs": [
    {
     "data": {
      "text/plain": [
       "array([[[0, 0, 0, 0],\n",
       "        [0, 0, 0, 0],\n",
       "        [0, 0, 0, 0]],\n",
       "\n",
       "       [[0, 0, 0, 0],\n",
       "        [0, 0, 0, 0],\n",
       "        [0, 0, 0, 0]],\n",
       "\n",
       "       [[0, 0, 0, 0],\n",
       "        [0, 0, 0, 0],\n",
       "        [0, 0, 0, 0]]])"
      ]
     },
     "execution_count": 36,
     "metadata": {},
     "output_type": "execute_result"
    }
   ],
   "source": [
    "arr"
   ]
  },
  {
   "cell_type": "code",
   "execution_count": 37,
   "id": "46394546-c18b-4090-984b-e91149f12aac",
   "metadata": {},
   "outputs": [
    {
     "data": {
      "text/plain": [
       "36"
      ]
     },
     "execution_count": 37,
     "metadata": {},
     "output_type": "execute_result"
    }
   ],
   "source": [
    "arr.size"
   ]
  },
  {
   "cell_type": "code",
   "execution_count": 38,
   "id": "7d815ab2-32ba-4454-b006-e5fa5ecf610f",
   "metadata": {},
   "outputs": [],
   "source": [
    "#4D array\n",
    "arr = np.zeros((3,3,3,4), dtype = int)"
   ]
  },
  {
   "cell_type": "code",
   "execution_count": 39,
   "id": "a696a09b-b07e-470a-9b55-3bca33ce9191",
   "metadata": {},
   "outputs": [
    {
     "data": {
      "text/plain": [
       "array([[[[0, 0, 0, 0],\n",
       "         [0, 0, 0, 0],\n",
       "         [0, 0, 0, 0]],\n",
       "\n",
       "        [[0, 0, 0, 0],\n",
       "         [0, 0, 0, 0],\n",
       "         [0, 0, 0, 0]],\n",
       "\n",
       "        [[0, 0, 0, 0],\n",
       "         [0, 0, 0, 0],\n",
       "         [0, 0, 0, 0]]],\n",
       "\n",
       "\n",
       "       [[[0, 0, 0, 0],\n",
       "         [0, 0, 0, 0],\n",
       "         [0, 0, 0, 0]],\n",
       "\n",
       "        [[0, 0, 0, 0],\n",
       "         [0, 0, 0, 0],\n",
       "         [0, 0, 0, 0]],\n",
       "\n",
       "        [[0, 0, 0, 0],\n",
       "         [0, 0, 0, 0],\n",
       "         [0, 0, 0, 0]]],\n",
       "\n",
       "\n",
       "       [[[0, 0, 0, 0],\n",
       "         [0, 0, 0, 0],\n",
       "         [0, 0, 0, 0]],\n",
       "\n",
       "        [[0, 0, 0, 0],\n",
       "         [0, 0, 0, 0],\n",
       "         [0, 0, 0, 0]],\n",
       "\n",
       "        [[0, 0, 0, 0],\n",
       "         [0, 0, 0, 0],\n",
       "         [0, 0, 0, 0]]]])"
      ]
     },
     "execution_count": 39,
     "metadata": {},
     "output_type": "execute_result"
    }
   ],
   "source": [
    "arr"
   ]
  },
  {
   "cell_type": "code",
   "execution_count": 40,
   "id": "f0d29c77-d653-45ed-993b-6a4d78f62a4b",
   "metadata": {},
   "outputs": [
    {
     "data": {
      "text/plain": [
       "4"
      ]
     },
     "execution_count": 40,
     "metadata": {},
     "output_type": "execute_result"
    }
   ],
   "source": [
    "arr.ndim"
   ]
  },
  {
   "cell_type": "code",
   "execution_count": 41,
   "id": "42f8a1be-af6f-42d9-89ba-4be2d15351ac",
   "metadata": {},
   "outputs": [],
   "source": [
    "arr = np.zeros((3,3,3,3,4), dtype = int)"
   ]
  },
  {
   "cell_type": "code",
   "execution_count": 42,
   "id": "6d62f71c-1d6e-493f-8d24-ed7ad2730a37",
   "metadata": {},
   "outputs": [
    {
     "data": {
      "text/plain": [
       "array([[[[[0, 0, 0, 0],\n",
       "          [0, 0, 0, 0],\n",
       "          [0, 0, 0, 0]],\n",
       "\n",
       "         [[0, 0, 0, 0],\n",
       "          [0, 0, 0, 0],\n",
       "          [0, 0, 0, 0]],\n",
       "\n",
       "         [[0, 0, 0, 0],\n",
       "          [0, 0, 0, 0],\n",
       "          [0, 0, 0, 0]]],\n",
       "\n",
       "\n",
       "        [[[0, 0, 0, 0],\n",
       "          [0, 0, 0, 0],\n",
       "          [0, 0, 0, 0]],\n",
       "\n",
       "         [[0, 0, 0, 0],\n",
       "          [0, 0, 0, 0],\n",
       "          [0, 0, 0, 0]],\n",
       "\n",
       "         [[0, 0, 0, 0],\n",
       "          [0, 0, 0, 0],\n",
       "          [0, 0, 0, 0]]],\n",
       "\n",
       "\n",
       "        [[[0, 0, 0, 0],\n",
       "          [0, 0, 0, 0],\n",
       "          [0, 0, 0, 0]],\n",
       "\n",
       "         [[0, 0, 0, 0],\n",
       "          [0, 0, 0, 0],\n",
       "          [0, 0, 0, 0]],\n",
       "\n",
       "         [[0, 0, 0, 0],\n",
       "          [0, 0, 0, 0],\n",
       "          [0, 0, 0, 0]]]],\n",
       "\n",
       "\n",
       "\n",
       "       [[[[0, 0, 0, 0],\n",
       "          [0, 0, 0, 0],\n",
       "          [0, 0, 0, 0]],\n",
       "\n",
       "         [[0, 0, 0, 0],\n",
       "          [0, 0, 0, 0],\n",
       "          [0, 0, 0, 0]],\n",
       "\n",
       "         [[0, 0, 0, 0],\n",
       "          [0, 0, 0, 0],\n",
       "          [0, 0, 0, 0]]],\n",
       "\n",
       "\n",
       "        [[[0, 0, 0, 0],\n",
       "          [0, 0, 0, 0],\n",
       "          [0, 0, 0, 0]],\n",
       "\n",
       "         [[0, 0, 0, 0],\n",
       "          [0, 0, 0, 0],\n",
       "          [0, 0, 0, 0]],\n",
       "\n",
       "         [[0, 0, 0, 0],\n",
       "          [0, 0, 0, 0],\n",
       "          [0, 0, 0, 0]]],\n",
       "\n",
       "\n",
       "        [[[0, 0, 0, 0],\n",
       "          [0, 0, 0, 0],\n",
       "          [0, 0, 0, 0]],\n",
       "\n",
       "         [[0, 0, 0, 0],\n",
       "          [0, 0, 0, 0],\n",
       "          [0, 0, 0, 0]],\n",
       "\n",
       "         [[0, 0, 0, 0],\n",
       "          [0, 0, 0, 0],\n",
       "          [0, 0, 0, 0]]]],\n",
       "\n",
       "\n",
       "\n",
       "       [[[[0, 0, 0, 0],\n",
       "          [0, 0, 0, 0],\n",
       "          [0, 0, 0, 0]],\n",
       "\n",
       "         [[0, 0, 0, 0],\n",
       "          [0, 0, 0, 0],\n",
       "          [0, 0, 0, 0]],\n",
       "\n",
       "         [[0, 0, 0, 0],\n",
       "          [0, 0, 0, 0],\n",
       "          [0, 0, 0, 0]]],\n",
       "\n",
       "\n",
       "        [[[0, 0, 0, 0],\n",
       "          [0, 0, 0, 0],\n",
       "          [0, 0, 0, 0]],\n",
       "\n",
       "         [[0, 0, 0, 0],\n",
       "          [0, 0, 0, 0],\n",
       "          [0, 0, 0, 0]],\n",
       "\n",
       "         [[0, 0, 0, 0],\n",
       "          [0, 0, 0, 0],\n",
       "          [0, 0, 0, 0]]],\n",
       "\n",
       "\n",
       "        [[[0, 0, 0, 0],\n",
       "          [0, 0, 0, 0],\n",
       "          [0, 0, 0, 0]],\n",
       "\n",
       "         [[0, 0, 0, 0],\n",
       "          [0, 0, 0, 0],\n",
       "          [0, 0, 0, 0]],\n",
       "\n",
       "         [[0, 0, 0, 0],\n",
       "          [0, 0, 0, 0],\n",
       "          [0, 0, 0, 0]]]]])"
      ]
     },
     "execution_count": 42,
     "metadata": {},
     "output_type": "execute_result"
    }
   ],
   "source": [
    "arr"
   ]
  },
  {
   "cell_type": "code",
   "execution_count": 43,
   "id": "9eef97e0-507f-41af-bd1c-82fab79abbe2",
   "metadata": {},
   "outputs": [
    {
     "data": {
      "text/plain": [
       "5"
      ]
     },
     "execution_count": 43,
     "metadata": {},
     "output_type": "execute_result"
    }
   ],
   "source": [
    "arr.ndim"
   ]
  },
  {
   "cell_type": "code",
   "execution_count": 44,
   "id": "d590a20e-755b-4cf2-ac06-f1e937b95b6b",
   "metadata": {},
   "outputs": [
    {
     "data": {
      "text/plain": [
       "324"
      ]
     },
     "execution_count": 44,
     "metadata": {},
     "output_type": "execute_result"
    }
   ],
   "source": [
    "arr.size"
   ]
  },
  {
   "cell_type": "code",
   "execution_count": 45,
   "id": "97a3bfee-657b-40b8-b9df-6a991233acfe",
   "metadata": {},
   "outputs": [
    {
     "data": {
      "text/plain": [
       "(3, 3, 3, 3, 4)"
      ]
     },
     "execution_count": 45,
     "metadata": {},
     "output_type": "execute_result"
    }
   ],
   "source": [
    "arr.shape"
   ]
  },
  {
   "cell_type": "code",
   "execution_count": 48,
   "id": "3ef69a8e-5f03-47f3-abfb-1e825f1cd79a",
   "metadata": {},
   "outputs": [],
   "source": [
    "arr = np.zeros((3,4), dtype= int)"
   ]
  },
  {
   "cell_type": "code",
   "execution_count": 49,
   "id": "13359556-d765-45b6-8b26-ee178e117476",
   "metadata": {},
   "outputs": [
    {
     "data": {
      "text/plain": [
       "array([[0, 0, 0, 0],\n",
       "       [0, 0, 0, 0],\n",
       "       [0, 0, 0, 0]])"
      ]
     },
     "execution_count": 49,
     "metadata": {},
     "output_type": "execute_result"
    }
   ],
   "source": [
    "arr"
   ]
  },
  {
   "cell_type": "code",
   "execution_count": 50,
   "id": "fa14cb75-b84a-481c-bd43-67c39e1e5e33",
   "metadata": {},
   "outputs": [
    {
     "data": {
      "text/plain": [
       "array([[5, 5, 5, 5],\n",
       "       [5, 5, 5, 5],\n",
       "       [5, 5, 5, 5]])"
      ]
     },
     "execution_count": 50,
     "metadata": {},
     "output_type": "execute_result"
    }
   ],
   "source": [
    "arr + 5"
   ]
  },
  {
   "cell_type": "code",
   "execution_count": 53,
   "id": "a7cf0c0d-0410-4fa0-b210-6c41b49b36bd",
   "metadata": {},
   "outputs": [],
   "source": [
    "a = arr+5"
   ]
  },
  {
   "cell_type": "code",
   "execution_count": 54,
   "id": "10c9e4f2-06a6-4763-8563-67aa29a8469a",
   "metadata": {},
   "outputs": [
    {
     "data": {
      "text/plain": [
       "array([[5, 5, 5, 5],\n",
       "       [5, 5, 5, 5],\n",
       "       [5, 5, 5, 5]])"
      ]
     },
     "execution_count": 54,
     "metadata": {},
     "output_type": "execute_result"
    }
   ],
   "source": [
    "a"
   ]
  },
  {
   "cell_type": "code",
   "execution_count": 60,
   "id": "227f4fb2-aad7-4c04-bedb-63b81743e6cf",
   "metadata": {},
   "outputs": [
    {
     "data": {
      "text/plain": [
       "array([[10, 10, 10, 10],\n",
       "       [10, 10, 10, 10],\n",
       "       [10, 10, 10, 10]])"
      ]
     },
     "execution_count": 60,
     "metadata": {},
     "output_type": "execute_result"
    }
   ],
   "source": [
    "b = a * 2\n",
    "b"
   ]
  },
  {
   "cell_type": "code",
   "execution_count": 61,
   "id": "2a47df9b-9355-4e20-9eee-63340f43e779",
   "metadata": {},
   "outputs": [
    {
     "data": {
      "text/plain": [
       "array([[2, 2, 2, 2],\n",
       "       [2, 2, 2, 2],\n",
       "       [2, 2, 2, 2]])"
      ]
     },
     "execution_count": 61,
     "metadata": {},
     "output_type": "execute_result"
    }
   ],
   "source": [
    "b - 8"
   ]
  },
  {
   "cell_type": "code",
   "execution_count": 64,
   "id": "c289f31d-0d35-4926-9ea6-c1744dd70704",
   "metadata": {},
   "outputs": [
    {
     "data": {
      "text/plain": [
       "array([[1, 0, 0],\n",
       "       [0, 1, 0],\n",
       "       [0, 0, 1]])"
      ]
     },
     "execution_count": 64,
     "metadata": {},
     "output_type": "execute_result"
    }
   ],
   "source": [
    "np.eye((3) , dtype = int )# generates 3*3 matrix with all diagonal elements as 1 and rest with 0"
   ]
  },
  {
   "cell_type": "code",
   "execution_count": 65,
   "id": "4a48f257-21d1-4efc-9303-572afbca2131",
   "metadata": {},
   "outputs": [
    {
     "data": {
      "text/plain": [
       "array([[1, 0, 0, 0],\n",
       "       [0, 1, 0, 0],\n",
       "       [0, 0, 1, 0],\n",
       "       [0, 0, 0, 1]])"
      ]
     },
     "execution_count": 65,
     "metadata": {},
     "output_type": "execute_result"
    }
   ],
   "source": [
    "np.eye(4 , dtype = int)"
   ]
  },
  {
   "cell_type": "code",
   "execution_count": 73,
   "id": "b2815dae-401d-465a-a042-2a6be54b135e",
   "metadata": {},
   "outputs": [
    {
     "data": {
      "text/plain": [
       "array([[      2292920691624,                  64,                   0,\n",
       "                          0],\n",
       "       [8751735922824839168, 7161908003341623605, 3991987212741862499,\n",
       "        3775764918343066933],\n",
       "       [7305174175183823670, 3847592722889585510, 3702580359145535538,\n",
       "        7305460035305890611]])"
      ]
     },
     "execution_count": 73,
     "metadata": {},
     "output_type": "execute_result"
    }
   ],
   "source": [
    "np.empty((3, 4), dtype = int) # return a new array of given shape and type , without initializing entries , any random values"
   ]
  },
  {
   "cell_type": "code",
   "execution_count": 72,
   "id": "e9671042-d80d-4c32-9430-5af04964f676",
   "metadata": {},
   "outputs": [
    {
     "data": {
      "text/plain": [
       "array([[1.13283746e-311, 1.02765654e-321, 0.00000000e+000,\n",
       "        0.00000000e+000, 7.56587583e-307, 5.02034658e+175],\n",
       "       [1.68743985e+160, 1.28942842e+165, 5.98927918e+174,\n",
       "        1.63205399e+185, 6.81479592e-067, 5.83384027e-144],\n",
       "       [3.59751658e+252, 3.96046095e+246, 1.04918621e-153,\n",
       "        7.69165785e+218, 5.04621343e+180, 1.04917822e-153],\n",
       "       [9.08366793e+223, 1.68743985e+160, 1.28942842e+165,\n",
       "        5.98927918e+174, 1.63205399e+185, 1.04917867e-153],\n",
       "       [1.94918966e-153, 1.48339952e-076, 2.73418275e-052,\n",
       "        3.31108018e-033, 2.59027896e-144, 7.79952704e-143]])"
      ]
     },
     "execution_count": 72,
     "metadata": {},
     "output_type": "execute_result"
    }
   ],
   "source": [
    "np.empty((5,6))"
   ]
  },
  {
   "cell_type": "code",
   "execution_count": 80,
   "id": "98cc09ce-8221-4015-846a-f213d55e3e02",
   "metadata": {},
   "outputs": [
    {
     "data": {
      "text/plain": [
       "5"
      ]
     },
     "execution_count": 80,
     "metadata": {},
     "output_type": "execute_result"
    }
   ],
   "source": [
    "#optional >> random module \n",
    "#>> gives random value\n",
    "import random\n",
    "random.choice((1,2,3,4,5))"
   ]
  },
  {
   "cell_type": "code",
   "execution_count": 81,
   "id": "02a17573-4e94-4b47-8f07-5e61fede56de",
   "metadata": {},
   "outputs": [
    {
     "data": {
      "text/plain": [
       "'i'"
      ]
     },
     "execution_count": 81,
     "metadata": {},
     "output_type": "execute_result"
    }
   ],
   "source": [
    "random.choice(\"Abhi\")"
   ]
  },
  {
   "cell_type": "code",
   "execution_count": 82,
   "id": "be03c404-3ce9-4310-8b0f-42e0fe9d7d2d",
   "metadata": {},
   "outputs": [
    {
     "data": {
      "text/plain": [
       "3"
      ]
     },
     "execution_count": 82,
     "metadata": {},
     "output_type": "execute_result"
    }
   ],
   "source": [
    "random.randrange(1,10)"
   ]
  },
  {
   "cell_type": "code",
   "execution_count": 84,
   "id": "d17c2bf7-716c-440e-955f-97c5c9e6bf25",
   "metadata": {},
   "outputs": [
    {
     "data": {
      "text/plain": [
       "0.8783140097351737"
      ]
     },
     "execution_count": 84,
     "metadata": {},
     "output_type": "execute_result"
    }
   ],
   "source": [
    "random.random() # a random generated b/w 0  and 1"
   ]
  },
  {
   "cell_type": "code",
   "execution_count": 91,
   "id": "1ee27a4f-f880-4068-8038-ffd6731c0744",
   "metadata": {},
   "outputs": [
    {
     "data": {
      "text/plain": [
       "[1, 2, 3, 4, 5]"
      ]
     },
     "execution_count": 91,
     "metadata": {},
     "output_type": "execute_result"
    }
   ],
   "source": [
    "lis = [1,2,3,4,5]\n",
    "lis"
   ]
  },
  {
   "cell_type": "code",
   "execution_count": 92,
   "id": "51b341c4-02e9-41e9-8f6d-693e09a20e24",
   "metadata": {},
   "outputs": [],
   "source": [
    "random.shuffle(lis)"
   ]
  },
  {
   "cell_type": "code",
   "execution_count": 93,
   "id": "2100ff5d-be67-47e6-a605-105bf533858b",
   "metadata": {},
   "outputs": [
    {
     "data": {
      "text/plain": [
       "[5, 3, 2, 4, 1]"
      ]
     },
     "execution_count": 93,
     "metadata": {},
     "output_type": "execute_result"
    }
   ],
   "source": [
    "lis"
   ]
  },
  {
   "cell_type": "code",
   "execution_count": 95,
   "id": "51e7338d-cadd-4706-8126-939f67f7c13a",
   "metadata": {},
   "outputs": [
    {
     "data": {
      "text/plain": [
       "8.8283736734815"
      ]
     },
     "execution_count": 95,
     "metadata": {},
     "output_type": "execute_result"
    }
   ],
   "source": [
    "random.uniform(7,14)"
   ]
  },
  {
   "cell_type": "code",
   "execution_count": 96,
   "id": "c1419b6e-5071-4012-9b01-315e392fc57d",
   "metadata": {},
   "outputs": [
    {
     "data": {
      "text/plain": [
       "array([], dtype=float64)"
      ]
     },
     "execution_count": 96,
     "metadata": {},
     "output_type": "execute_result"
    }
   ],
   "source": [
    "#random numbers related concept in numpy\n",
    "\n",
    "np.array([])"
   ]
  },
  {
   "cell_type": "code",
   "execution_count": 97,
   "id": "0e725dc9-53cb-4854-9811-104dc1196904",
   "metadata": {},
   "outputs": [
    {
     "data": {
      "text/plain": [
       "0.2510410531035113"
      ]
     },
     "execution_count": 97,
     "metadata": {},
     "output_type": "execute_result"
    }
   ],
   "source": [
    "np.random.random_sample()"
   ]
  },
  {
   "cell_type": "code",
   "execution_count": 100,
   "id": "dfe9b0b8-2b96-4a27-9cbb-a121f7307f38",
   "metadata": {},
   "outputs": [
    {
     "data": {
      "text/plain": [
       "array([0.21969978, 0.78242047, 0.41367764, 0.32722341, 0.59844879])"
      ]
     },
     "execution_count": 100,
     "metadata": {},
     "output_type": "execute_result"
    }
   ],
   "source": [
    "np.random.random_sample((5,)) #1 dimesion array of 5 random numbers"
   ]
  },
  {
   "cell_type": "code",
   "execution_count": 101,
   "id": "8647419a-2902-4593-9e9e-e1785c2c7721",
   "metadata": {},
   "outputs": [
    {
     "data": {
      "text/plain": [
       "array([0.01655663])"
      ]
     },
     "execution_count": 101,
     "metadata": {},
     "output_type": "execute_result"
    }
   ],
   "source": [
    "np.random.rand(1)"
   ]
  },
  {
   "cell_type": "code",
   "execution_count": 102,
   "id": "4544b1bb-0862-4913-b90c-bd7561b51f40",
   "metadata": {},
   "outputs": [
    {
     "data": {
      "text/plain": [
       "array([[0.35767477, 0.27512212, 0.92464583],\n",
       "       [0.06026564, 0.34978477, 0.02207425]])"
      ]
     },
     "execution_count": 102,
     "metadata": {},
     "output_type": "execute_result"
    }
   ],
   "source": [
    "np.random.rand(2,3)"
   ]
  },
  {
   "cell_type": "code",
   "execution_count": 103,
   "id": "361d04c2-9f2b-4239-97ac-c71980df4c20",
   "metadata": {},
   "outputs": [
    {
     "data": {
      "text/plain": [
       "array([[ 1.36266394, -1.06899897, -1.11310551],\n",
       "       [-0.37060912, -1.01399509,  0.09760165]])"
      ]
     },
     "execution_count": 103,
     "metadata": {},
     "output_type": "execute_result"
    }
   ],
   "source": [
    "np.random.randn(2,3) #return a sample from the \"standard normal\" distribution."
   ]
  },
  {
   "cell_type": "code",
   "execution_count": 104,
   "id": "b7dcbe15-420c-4669-8a50-34ca7bc4ad8e",
   "metadata": {},
   "outputs": [
    {
     "data": {
      "text/plain": [
       "1"
      ]
     },
     "execution_count": 104,
     "metadata": {},
     "output_type": "execute_result"
    }
   ],
   "source": [
    "np.random.randint(1,5)"
   ]
  },
  {
   "cell_type": "code",
   "execution_count": 106,
   "id": "64755c87-2a76-4ae0-b1a6-b41a98b6ca2f",
   "metadata": {},
   "outputs": [],
   "source": [
    "arr = np.random.randint(1,5, size = (3,4)) #start from 1 end at 5-1 and give array"
   ]
  },
  {
   "cell_type": "code",
   "execution_count": 107,
   "id": "3224323a-3862-4fa2-b41a-3c3ec848904f",
   "metadata": {},
   "outputs": [
    {
     "data": {
      "text/plain": [
       "2"
      ]
     },
     "execution_count": 107,
     "metadata": {},
     "output_type": "execute_result"
    }
   ],
   "source": [
    "arr.ndim"
   ]
  },
  {
   "cell_type": "code",
   "execution_count": 108,
   "id": "7841efe8-10eb-4156-a40e-2e05bdd29c13",
   "metadata": {},
   "outputs": [
    {
     "data": {
      "text/plain": [
       "(3, 4)"
      ]
     },
     "execution_count": 108,
     "metadata": {},
     "output_type": "execute_result"
    }
   ],
   "source": [
    "arr.shape"
   ]
  },
  {
   "cell_type": "code",
   "execution_count": 109,
   "id": "daf21aee-0d21-4229-ad75-ae74f4360275",
   "metadata": {},
   "outputs": [
    {
     "data": {
      "text/plain": [
       "12"
      ]
     },
     "execution_count": 109,
     "metadata": {},
     "output_type": "execute_result"
    }
   ],
   "source": [
    "arr.size"
   ]
  },
  {
   "cell_type": "code",
   "execution_count": 110,
   "id": "6e81e24c-9386-4612-9e3c-60974e01f388",
   "metadata": {},
   "outputs": [
    {
     "data": {
      "text/plain": [
       "array([[2, 1, 2, 4],\n",
       "       [3, 2, 1, 1],\n",
       "       [2, 2, 4, 1]], dtype=int32)"
      ]
     },
     "execution_count": 110,
     "metadata": {},
     "output_type": "execute_result"
    }
   ],
   "source": [
    "arr"
   ]
  },
  {
   "cell_type": "code",
   "execution_count": 111,
   "id": "8570f6b1-8ab5-4112-a084-fd02787b64b1",
   "metadata": {},
   "outputs": [
    {
     "data": {
      "text/plain": [
       "array([[2, 1, 2, 4, 3, 2],\n",
       "       [1, 1, 2, 2, 4, 1]], dtype=int32)"
      ]
     },
     "execution_count": 111,
     "metadata": {},
     "output_type": "execute_result"
    }
   ],
   "source": [
    "#reshaping of array\n",
    "arr.reshape(2,6)"
   ]
  },
  {
   "cell_type": "code",
   "execution_count": 119,
   "id": "e542d941-18a7-4810-8e7a-09828f5095c8",
   "metadata": {},
   "outputs": [],
   "source": [
    "arr1 = arr.reshape(4,3)"
   ]
  },
  {
   "cell_type": "code",
   "execution_count": 120,
   "id": "c5a76412-b290-4d8c-8076-f316d26c008b",
   "metadata": {},
   "outputs": [],
   "source": [
    "#Note - when you try to reshape it should be a multiple of elements present in an array otherwise it gives error"
   ]
  },
  {
   "cell_type": "code",
   "execution_count": 121,
   "id": "e6b07bc5-564c-4242-9aa6-5eec56dfa0c2",
   "metadata": {},
   "outputs": [
    {
     "data": {
      "text/plain": [
       "(3, 4)"
      ]
     },
     "execution_count": 121,
     "metadata": {},
     "output_type": "execute_result"
    }
   ],
   "source": [
    "arr.shape"
   ]
  },
  {
   "cell_type": "code",
   "execution_count": 122,
   "id": "6f7519c1-1399-4c18-846f-7d973a1d63d6",
   "metadata": {},
   "outputs": [
    {
     "data": {
      "text/plain": [
       "(4, 3)"
      ]
     },
     "execution_count": 122,
     "metadata": {},
     "output_type": "execute_result"
    }
   ],
   "source": [
    "arr1.shape"
   ]
  },
  {
   "cell_type": "code",
   "execution_count": 123,
   "id": "94508a48-6143-4a9f-9747-7a1d1531e228",
   "metadata": {},
   "outputs": [
    {
     "data": {
      "text/plain": [
       "array([[2, 1, 2],\n",
       "       [4, 3, 2],\n",
       "       [1, 1, 2],\n",
       "       [2, 4, 1]], dtype=int32)"
      ]
     },
     "execution_count": 123,
     "metadata": {},
     "output_type": "execute_result"
    }
   ],
   "source": [
    "arr1"
   ]
  },
  {
   "cell_type": "code",
   "execution_count": 124,
   "id": "43e53d1b-130e-4397-bd7d-177015d483a9",
   "metadata": {},
   "outputs": [
    {
     "data": {
      "text/plain": [
       "array([[2],\n",
       "       [1],\n",
       "       [2],\n",
       "       [4],\n",
       "       [3],\n",
       "       [2],\n",
       "       [1],\n",
       "       [1],\n",
       "       [2],\n",
       "       [2],\n",
       "       [4],\n",
       "       [1]], dtype=int32)"
      ]
     },
     "execution_count": 124,
     "metadata": {},
     "output_type": "execute_result"
    }
   ],
   "source": [
    "arr.reshape(12,1)"
   ]
  },
  {
   "cell_type": "code",
   "execution_count": 126,
   "id": "7e89c9e1-6269-4fab-8e3c-8a1512a9c67a",
   "metadata": {},
   "outputs": [
    {
     "data": {
      "text/plain": [
       "array([[2, 1, 2],\n",
       "       [4, 3, 2],\n",
       "       [1, 1, 2],\n",
       "       [2, 4, 1]], dtype=int32)"
      ]
     },
     "execution_count": 126,
     "metadata": {},
     "output_type": "execute_result"
    }
   ],
   "source": [
    "arr.reshape(4,-1) # Case when you dont know in reshape what should be the row or column just use -1 or any negative values for rows or columns"
   ]
  },
  {
   "cell_type": "code",
   "execution_count": 127,
   "id": "823c65e9-e6ed-4570-80f7-64a1a3c3fcc4",
   "metadata": {},
   "outputs": [
    {
     "data": {
      "text/plain": [
       "array([[2, 1, 2],\n",
       "       [4, 3, 2],\n",
       "       [1, 1, 2],\n",
       "       [2, 4, 1]], dtype=int32)"
      ]
     },
     "execution_count": 127,
     "metadata": {},
     "output_type": "execute_result"
    }
   ],
   "source": [
    "arr.reshape(4,-2)"
   ]
  },
  {
   "cell_type": "code",
   "execution_count": 129,
   "id": "ee256616-bd31-4f52-a53c-b6376259867d",
   "metadata": {},
   "outputs": [
    {
     "data": {
      "text/plain": [
       "array([[2, 1, 2, 4],\n",
       "       [3, 2, 1, 1],\n",
       "       [2, 2, 4, 1]], dtype=int32)"
      ]
     },
     "execution_count": 129,
     "metadata": {},
     "output_type": "execute_result"
    }
   ],
   "source": [
    "arr.reshape(-1,4)"
   ]
  },
  {
   "cell_type": "code",
   "execution_count": 131,
   "id": "f296eeed-600d-4978-a685-408e886cdbd9",
   "metadata": {},
   "outputs": [
    {
     "data": {
      "text/plain": [
       "array([[2, 1, 2, 4],\n",
       "       [3, 2, 1, 1],\n",
       "       [2, 2, 4, 1]], dtype=int32)"
      ]
     },
     "execution_count": 131,
     "metadata": {},
     "output_type": "execute_result"
    }
   ],
   "source": [
    "arr.reshape(12,1).base # to see the original array"
   ]
  },
  {
   "cell_type": "code",
   "execution_count": 132,
   "id": "8da690d1-12af-4776-aeaa-7357dd6b4b9c",
   "metadata": {},
   "outputs": [
    {
     "data": {
      "text/plain": [
       "array([[2, 1, 2, 4],\n",
       "       [3, 2, 1, 1],\n",
       "       [2, 2, 4, 1]], dtype=int32)"
      ]
     },
     "execution_count": 132,
     "metadata": {},
     "output_type": "execute_result"
    }
   ],
   "source": [
    "arr"
   ]
  },
  {
   "cell_type": "code",
   "execution_count": 134,
   "id": "4e9a9144-5008-46bf-8cf2-e91d801eb836",
   "metadata": {},
   "outputs": [
    {
     "data": {
      "text/plain": [
       "array([[[2, 1, 2],\n",
       "        [4, 3, 2]],\n",
       "\n",
       "       [[1, 1, 2],\n",
       "        [2, 4, 1]]], dtype=int32)"
      ]
     },
     "execution_count": 134,
     "metadata": {},
     "output_type": "execute_result"
    }
   ],
   "source": [
    "arr.reshape(2,2,3) # mulitplication should be equal to arr size"
   ]
  },
  {
   "cell_type": "code",
   "execution_count": 136,
   "id": "ba662f2c-28ff-4b37-92d6-9310e67163cc",
   "metadata": {},
   "outputs": [
    {
     "data": {
      "text/plain": [
       "array([[[[2, 1, 2],\n",
       "         [4, 3, 2]],\n",
       "\n",
       "        [[1, 1, 2],\n",
       "         [2, 4, 1]]]], dtype=int32)"
      ]
     },
     "execution_count": 136,
     "metadata": {},
     "output_type": "execute_result"
    }
   ],
   "source": [
    "arr.reshape(1,2,2,3)"
   ]
  },
  {
   "cell_type": "code",
   "execution_count": 137,
   "id": "4fa5209e-d242-420e-b506-250031d91a30",
   "metadata": {},
   "outputs": [
    {
     "data": {
      "text/plain": [
       "4"
      ]
     },
     "execution_count": 137,
     "metadata": {},
     "output_type": "execute_result"
    }
   ],
   "source": [
    "arr.reshape(1,2,2,3).ndim"
   ]
  },
  {
   "cell_type": "code",
   "execution_count": 139,
   "id": "5317d514-c518-47dd-8fc0-fd1a0d6766d6",
   "metadata": {},
   "outputs": [
    {
     "data": {
      "text/plain": [
       "array([[[2],\n",
       "        [1],\n",
       "        [2]],\n",
       "\n",
       "       [[4],\n",
       "        [3],\n",
       "        [2]],\n",
       "\n",
       "       [[1],\n",
       "        [1],\n",
       "        [2]],\n",
       "\n",
       "       [[2],\n",
       "        [4],\n",
       "        [1]]], dtype=int32)"
      ]
     },
     "execution_count": 139,
     "metadata": {},
     "output_type": "execute_result"
    }
   ],
   "source": [
    "arr.reshape(4,3,1) #3 rows 1 colums repeated 4 times in the 3rd Dimension"
   ]
  },
  {
   "cell_type": "code",
   "execution_count": 140,
   "id": "5e47be38-5077-4eac-b019-710bb6fb647d",
   "metadata": {},
   "outputs": [],
   "source": [
    "#conditions on array\n",
    "arr1 = np.random.randint(1,10,(5,6))"
   ]
  },
  {
   "cell_type": "code",
   "execution_count": 141,
   "id": "26d39343-580b-4ccd-a62a-02d077edd969",
   "metadata": {},
   "outputs": [
    {
     "data": {
      "text/plain": [
       "array([[2, 1, 3, 2, 2, 7],\n",
       "       [8, 3, 6, 9, 3, 4],\n",
       "       [8, 3, 2, 4, 5, 6],\n",
       "       [3, 2, 9, 2, 4, 6],\n",
       "       [4, 1, 1, 2, 3, 4]], dtype=int32)"
      ]
     },
     "execution_count": 141,
     "metadata": {},
     "output_type": "execute_result"
    }
   ],
   "source": [
    "arr1"
   ]
  },
  {
   "cell_type": "code",
   "execution_count": 142,
   "id": "7ce6a130-0bef-4d0a-b15d-d8c4bef289f7",
   "metadata": {},
   "outputs": [
    {
     "data": {
      "text/plain": [
       "(5, 6)"
      ]
     },
     "execution_count": 142,
     "metadata": {},
     "output_type": "execute_result"
    }
   ],
   "source": [
    "arr1.shape"
   ]
  },
  {
   "cell_type": "code",
   "execution_count": 143,
   "id": "e05d3107-ddeb-42b9-83ad-78b912921f70",
   "metadata": {},
   "outputs": [
    {
     "data": {
      "text/plain": [
       "30"
      ]
     },
     "execution_count": 143,
     "metadata": {},
     "output_type": "execute_result"
    }
   ],
   "source": [
    "arr1.size"
   ]
  },
  {
   "cell_type": "code",
   "execution_count": 144,
   "id": "0c2724b5-70c9-416c-acd8-380ae0dc4837",
   "metadata": {},
   "outputs": [
    {
     "data": {
      "text/plain": [
       "2"
      ]
     },
     "execution_count": 144,
     "metadata": {},
     "output_type": "execute_result"
    }
   ],
   "source": [
    "arr1.ndim"
   ]
  },
  {
   "cell_type": "code",
   "execution_count": 145,
   "id": "8f5e4539-2112-442b-b4d7-fcaaa6c4ce98",
   "metadata": {},
   "outputs": [
    {
     "data": {
      "text/plain": [
       "array([[2, 1, 3, 2, 2, 7],\n",
       "       [8, 3, 6, 9, 3, 4],\n",
       "       [8, 3, 2, 4, 5, 6],\n",
       "       [3, 2, 9, 2, 4, 6],\n",
       "       [4, 1, 1, 2, 3, 4]], dtype=int32)"
      ]
     },
     "execution_count": 145,
     "metadata": {},
     "output_type": "execute_result"
    }
   ],
   "source": [
    "arr1 "
   ]
  },
  {
   "cell_type": "code",
   "execution_count": 147,
   "id": "78599e1e-8db7-40a4-9e2e-edf3b6dad981",
   "metadata": {},
   "outputs": [
    {
     "data": {
      "text/plain": [
       "array([[False, False, False, False, False, False],\n",
       "       [ True, False, False,  True, False, False],\n",
       "       [ True, False, False, False, False, False],\n",
       "       [False, False,  True, False, False, False],\n",
       "       [False, False, False, False, False, False]])"
      ]
     },
     "execution_count": 147,
     "metadata": {},
     "output_type": "execute_result"
    }
   ],
   "source": [
    "arr1 > 7"
   ]
  },
  {
   "cell_type": "code",
   "execution_count": 148,
   "id": "0c89249c-d6e3-472b-8ccd-88bbca91631e",
   "metadata": {},
   "outputs": [
    {
     "data": {
      "text/plain": [
       "array([8, 9, 8, 9], dtype=int32)"
      ]
     },
     "execution_count": 148,
     "metadata": {},
     "output_type": "execute_result"
    }
   ],
   "source": [
    "arr1[arr1 > 7]# select all elements of arr1 here condition is true"
   ]
  },
  {
   "cell_type": "code",
   "execution_count": 149,
   "id": "ce1548fb-d5d0-440b-b691-2fd8cb169d05",
   "metadata": {},
   "outputs": [
    {
     "data": {
      "text/plain": [
       "array([2, 1, 2, 2, 2, 2, 2, 1, 1, 2], dtype=int32)"
      ]
     },
     "execution_count": 149,
     "metadata": {},
     "output_type": "execute_result"
    }
   ],
   "source": [
    "arr1[arr1<3]"
   ]
  },
  {
   "cell_type": "code",
   "execution_count": 150,
   "id": "d18e2f1f-1cef-4009-85be-18e9de98ad4f",
   "metadata": {},
   "outputs": [
    {
     "data": {
      "text/plain": [
       "array([[2, 1, 3, 2, 2, 7],\n",
       "       [8, 3, 6, 9, 3, 4],\n",
       "       [8, 3, 2, 4, 5, 6],\n",
       "       [3, 2, 9, 2, 4, 6],\n",
       "       [4, 1, 1, 2, 3, 4]], dtype=int32)"
      ]
     },
     "execution_count": 150,
     "metadata": {},
     "output_type": "execute_result"
    }
   ],
   "source": [
    "arr1"
   ]
  },
  {
   "cell_type": "code",
   "execution_count": 152,
   "id": "8f905e61-eaec-4ee3-9cb0-83218eb0a2b8",
   "metadata": {},
   "outputs": [],
   "source": [
    "#to access elements in an array"
   ]
  },
  {
   "cell_type": "code",
   "execution_count": 156,
   "id": "443dbafe-fb36-4250-83d3-a3349d65ffb4",
   "metadata": {},
   "outputs": [
    {
     "data": {
      "text/plain": [
       "array([2, 1, 3, 2, 2, 7], dtype=int32)"
      ]
     },
     "execution_count": 156,
     "metadata": {},
     "output_type": "execute_result"
    }
   ],
   "source": [
    "arr1[0] # arr[__] indexes"
   ]
  },
  {
   "cell_type": "code",
   "execution_count": 157,
   "id": "405f5379-8770-48f9-9904-bf8e3a0012da",
   "metadata": {},
   "outputs": [
    {
     "data": {
      "text/plain": [
       "array([8, 3, 6, 9, 3, 4], dtype=int32)"
      ]
     },
     "execution_count": 157,
     "metadata": {},
     "output_type": "execute_result"
    }
   ],
   "source": [
    "arr1[1]"
   ]
  },
  {
   "cell_type": "code",
   "execution_count": 159,
   "id": "8e13fc49-fb85-47df-a4ed-68929502be72",
   "metadata": {},
   "outputs": [
    {
     "data": {
      "text/plain": [
       "np.int32(6)"
      ]
     },
     "execution_count": 159,
     "metadata": {},
     "output_type": "execute_result"
    }
   ],
   "source": [
    "arr1[1][2]"
   ]
  },
  {
   "cell_type": "code",
   "execution_count": 160,
   "id": "17606f61-ef8c-46c7-96e6-f39206c06574",
   "metadata": {},
   "outputs": [
    {
     "data": {
      "text/plain": [
       "array([[2, 1, 3, 2, 2, 7],\n",
       "       [8, 3, 6, 9, 3, 4],\n",
       "       [8, 3, 2, 4, 5, 6],\n",
       "       [3, 2, 9, 2, 4, 6],\n",
       "       [4, 1, 1, 2, 3, 4]], dtype=int32)"
      ]
     },
     "execution_count": 160,
     "metadata": {},
     "output_type": "execute_result"
    }
   ],
   "source": [
    "arr1"
   ]
  },
  {
   "cell_type": "code",
   "execution_count": 163,
   "id": "fd017733-4adc-4592-a52f-5e22b60d7fa0",
   "metadata": {},
   "outputs": [
    {
     "data": {
      "text/plain": [
       "np.int32(2)"
      ]
     },
     "execution_count": 163,
     "metadata": {},
     "output_type": "execute_result"
    }
   ],
   "source": [
    "arr1[3][1]"
   ]
  },
  {
   "cell_type": "code",
   "execution_count": 167,
   "id": "70c6d529-c108-4dd1-a2e4-4d013ec122c7",
   "metadata": {},
   "outputs": [],
   "source": [
    "# from 0th row to 2nd row >> we use slicing"
   ]
  },
  {
   "cell_type": "code",
   "execution_count": 168,
   "id": "b7d40017-8bd0-47a1-9bae-762b4ee06b2c",
   "metadata": {},
   "outputs": [
    {
     "data": {
      "text/plain": [
       "array([[2, 1, 3, 2, 2, 7],\n",
       "       [8, 3, 6, 9, 3, 4],\n",
       "       [8, 3, 2, 4, 5, 6]], dtype=int32)"
      ]
     },
     "execution_count": 168,
     "metadata": {},
     "output_type": "execute_result"
    }
   ],
   "source": [
    "arr1[0:3]"
   ]
  },
  {
   "cell_type": "code",
   "execution_count": 175,
   "id": "e66e5a42-9c06-4adf-8078-c607ee371fd7",
   "metadata": {},
   "outputs": [
    {
     "data": {
      "text/plain": [
       "array([[2, 3],\n",
       "       [8, 6],\n",
       "       [8, 2]], dtype=int32)"
      ]
     },
     "execution_count": 175,
     "metadata": {},
     "output_type": "execute_result"
    }
   ],
   "source": [
    "# from 0 to 2nd row and 0th and 2nd column\n",
    "arr1[0:3,[0,2]]"
   ]
  },
  {
   "cell_type": "code",
   "execution_count": 176,
   "id": "a9871269-6a0b-4727-bd20-c19f58d0a120",
   "metadata": {},
   "outputs": [
    {
     "data": {
      "text/plain": [
       "array([[2, 1, 3, 2, 2, 7],\n",
       "       [8, 3, 6, 9, 3, 4],\n",
       "       [8, 3, 2, 4, 5, 6],\n",
       "       [3, 2, 9, 2, 4, 6],\n",
       "       [4, 1, 1, 2, 3, 4]], dtype=int32)"
      ]
     },
     "execution_count": 176,
     "metadata": {},
     "output_type": "execute_result"
    }
   ],
   "source": [
    "#slicing on both rows and columns together\n",
    "arr1"
   ]
  },
  {
   "cell_type": "code",
   "execution_count": 177,
   "id": "a1dc7196-5e7c-49cb-a9f0-ba20c6a2b6cd",
   "metadata": {},
   "outputs": [
    {
     "data": {
      "text/plain": [
       "array([[1, 3, 2],\n",
       "       [3, 6, 9],\n",
       "       [3, 2, 4]], dtype=int32)"
      ]
     },
     "execution_count": 177,
     "metadata": {},
     "output_type": "execute_result"
    }
   ],
   "source": [
    "arr1[0:3,[1,2,3]]"
   ]
  },
  {
   "cell_type": "code",
   "execution_count": 178,
   "id": "c0c1e0df-6c52-4779-8cc8-1e16079bc6cf",
   "metadata": {},
   "outputs": [
    {
     "data": {
      "text/plain": [
       "array([[2, 1],\n",
       "       [8, 3],\n",
       "       [8, 3]], dtype=int32)"
      ]
     },
     "execution_count": 178,
     "metadata": {},
     "output_type": "execute_result"
    }
   ],
   "source": [
    "arr1[0:3,[0,1]]"
   ]
  },
  {
   "cell_type": "code",
   "execution_count": 180,
   "id": "8293824d-a870-47d9-82c0-536f790a6a2e",
   "metadata": {},
   "outputs": [
    {
     "data": {
      "text/plain": [
       "array([1, 2], dtype=int32)"
      ]
     },
     "execution_count": 180,
     "metadata": {},
     "output_type": "execute_result"
    }
   ],
   "source": [
    "arr1[0,[1,3]]"
   ]
  },
  {
   "cell_type": "code",
   "execution_count": 181,
   "id": "40db31d8-218d-4970-ac6d-ec9887e9bc25",
   "metadata": {},
   "outputs": [
    {
     "data": {
      "text/plain": [
       "array([[8, 4],\n",
       "       [3, 2]], dtype=int32)"
      ]
     },
     "execution_count": 181,
     "metadata": {},
     "output_type": "execute_result"
    }
   ],
   "source": [
    "arr1[2:4, [0,3]]"
   ]
  },
  {
   "cell_type": "code",
   "execution_count": 182,
   "id": "3cdd223a-8a1a-42ba-8af0-a9fa8f4a6fb8",
   "metadata": {},
   "outputs": [
    {
     "data": {
      "text/plain": [
       "array([[8, 3, 2, 4, 5, 6],\n",
       "       [3, 2, 9, 2, 4, 6],\n",
       "       [4, 1, 1, 2, 3, 4]], dtype=int32)"
      ]
     },
     "execution_count": 182,
     "metadata": {},
     "output_type": "execute_result"
    }
   ],
   "source": [
    "arr1[2:5]"
   ]
  },
  {
   "cell_type": "code",
   "execution_count": 183,
   "id": "00166327-e9bb-4c9f-bbc8-efa993ae6d1a",
   "metadata": {},
   "outputs": [
    {
     "data": {
      "text/plain": [
       "array([[8, 3],\n",
       "       [3, 2],\n",
       "       [4, 1]], dtype=int32)"
      ]
     },
     "execution_count": 183,
     "metadata": {},
     "output_type": "execute_result"
    }
   ],
   "source": [
    "arr1[2:5, 0:2]"
   ]
  },
  {
   "cell_type": "code",
   "execution_count": 185,
   "id": "fc3a9fb4-49fa-4f10-9fe5-acda755d5d45",
   "metadata": {},
   "outputs": [],
   "source": [
    "#mathematical operations on 2 array\n",
    "arr1 = np.random.randint(1,3,(3,3))\n",
    "arr2 = np.random.randint(1,3,(3,3))"
   ]
  },
  {
   "cell_type": "code",
   "execution_count": 186,
   "id": "e455e53b-0978-40f6-bd90-7207c9b719df",
   "metadata": {},
   "outputs": [
    {
     "data": {
      "text/plain": [
       "array([[1, 2, 2],\n",
       "       [1, 1, 1],\n",
       "       [2, 1, 2]], dtype=int32)"
      ]
     },
     "execution_count": 186,
     "metadata": {},
     "output_type": "execute_result"
    }
   ],
   "source": [
    "arr1"
   ]
  },
  {
   "cell_type": "code",
   "execution_count": 187,
   "id": "2ff3394b-e562-4e3d-b36e-40fe6cdc6121",
   "metadata": {},
   "outputs": [
    {
     "data": {
      "text/plain": [
       "array([[1, 1, 1],\n",
       "       [1, 2, 2],\n",
       "       [2, 1, 2]], dtype=int32)"
      ]
     },
     "execution_count": 187,
     "metadata": {},
     "output_type": "execute_result"
    }
   ],
   "source": [
    "arr2"
   ]
  },
  {
   "cell_type": "code",
   "execution_count": 189,
   "id": "2acb72b7-7fbc-4126-91f7-398cf53674d6",
   "metadata": {},
   "outputs": [
    {
     "data": {
      "text/plain": [
       "array([[2, 3, 3],\n",
       "       [2, 3, 3],\n",
       "       [4, 2, 4]], dtype=int32)"
      ]
     },
     "execution_count": 189,
     "metadata": {},
     "output_type": "execute_result"
    }
   ],
   "source": [
    "arr1 + arr2 # index wise element addition"
   ]
  },
  {
   "cell_type": "code",
   "execution_count": 190,
   "id": "42281886-b605-4161-b436-6e30d8923d7c",
   "metadata": {},
   "outputs": [
    {
     "data": {
      "text/plain": [
       "array([[ 0,  1,  1],\n",
       "       [ 0, -1, -1],\n",
       "       [ 0,  0,  0]], dtype=int32)"
      ]
     },
     "execution_count": 190,
     "metadata": {},
     "output_type": "execute_result"
    }
   ],
   "source": [
    "arr1  - arr2"
   ]
  },
  {
   "cell_type": "code",
   "execution_count": 192,
   "id": "355cd26c-6253-4645-a462-26dd209a671a",
   "metadata": {},
   "outputs": [
    {
     "data": {
      "text/plain": [
       "array([[1, 2, 2],\n",
       "       [1, 2, 2],\n",
       "       [4, 1, 4]], dtype=int32)"
      ]
     },
     "execution_count": 192,
     "metadata": {},
     "output_type": "execute_result"
    }
   ],
   "source": [
    "arr1 * arr2 # index wise multiplication"
   ]
  },
  {
   "cell_type": "code",
   "execution_count": 193,
   "id": "dbca72f7-95d7-4864-af45-0caa78d605ae",
   "metadata": {},
   "outputs": [
    {
     "data": {
      "text/plain": [
       "(array([[1, 2, 2],\n",
       "        [1, 1, 1],\n",
       "        [2, 1, 2]], dtype=int32),\n",
       " array([[1, 1, 1],\n",
       "        [1, 2, 2],\n",
       "        [2, 1, 2]], dtype=int32))"
      ]
     },
     "execution_count": 193,
     "metadata": {},
     "output_type": "execute_result"
    }
   ],
   "source": [
    "arr1,arr2"
   ]
  },
  {
   "cell_type": "code",
   "execution_count": 194,
   "id": "333b49f9-6212-41b6-b1db-4bfe9a5aae1b",
   "metadata": {},
   "outputs": [
    {
     "data": {
      "text/plain": [
       "array([[1. , 2. , 2. ],\n",
       "       [1. , 0.5, 0.5],\n",
       "       [1. , 1. , 1. ]])"
      ]
     },
     "execution_count": 194,
     "metadata": {},
     "output_type": "execute_result"
    }
   ],
   "source": [
    "arr1 / arr2 # index wise division"
   ]
  },
  {
   "cell_type": "code",
   "execution_count": 195,
   "id": "a4fa2ad0-3bc9-4331-a60f-e6e4265abc15",
   "metadata": {},
   "outputs": [
    {
     "ename": "ZeroDivisionError",
     "evalue": "division by zero",
     "output_type": "error",
     "traceback": [
      "\u001b[1;31m---------------------------------------------------------------------------\u001b[0m",
      "\u001b[1;31mZeroDivisionError\u001b[0m                         Traceback (most recent call last)",
      "Cell \u001b[1;32mIn[195], line 1\u001b[0m\n\u001b[1;32m----> 1\u001b[0m \u001b[38;5;241m4\u001b[39m\u001b[38;5;241m/\u001b[39m\u001b[38;5;241m0\u001b[39m\n",
      "\u001b[1;31mZeroDivisionError\u001b[0m: division by zero"
     ]
    }
   ],
   "source": [
    "4/0 # python gives >> ZeroDivisionError: division by zero"
   ]
  },
  {
   "cell_type": "code",
   "execution_count": 197,
   "id": "26526ecb-6fa8-428a-b83f-055e7a82bef2",
   "metadata": {},
   "outputs": [
    {
     "name": "stderr",
     "output_type": "stream",
     "text": [
      "C:\\Users\\kumar\\AppData\\Local\\Temp\\ipykernel_22496\\784161104.py:1: RuntimeWarning: divide by zero encountered in divide\n",
      "  arr1/0 # gives infinity\n"
     ]
    },
    {
     "data": {
      "text/plain": [
       "array([[inf, inf, inf],\n",
       "       [inf, inf, inf],\n",
       "       [inf, inf, inf]])"
      ]
     },
     "execution_count": 197,
     "metadata": {},
     "output_type": "execute_result"
    }
   ],
   "source": [
    "arr1/0 # gives infinity"
   ]
  },
  {
   "cell_type": "code",
   "execution_count": 198,
   "id": "4e12c374-1336-4022-8fab-f771ee6c40f9",
   "metadata": {},
   "outputs": [],
   "source": [
    "#matrix multiplication >> matrix is a specialised 2D array\n",
    "#matrix multiplication is different from index wise multilication"
   ]
  },
  {
   "cell_type": "code",
   "execution_count": 200,
   "id": "7a626b64-ca89-4dfb-b841-53b0eb5ba2b8",
   "metadata": {},
   "outputs": [
    {
     "data": {
      "text/plain": [
       "array([[7, 7, 9],\n",
       "       [4, 4, 5],\n",
       "       [7, 6, 8]], dtype=int32)"
      ]
     },
     "execution_count": 200,
     "metadata": {},
     "output_type": "execute_result"
    }
   ],
   "source": [
    "arr1 @ arr2 # way to do matrix multiplication"
   ]
  },
  {
   "cell_type": "code",
   "execution_count": 201,
   "id": "cc37c298-ecde-4f44-ae28-25d99695db82",
   "metadata": {},
   "outputs": [
    {
     "data": {
      "text/plain": [
       "array([[1, 2, 2],\n",
       "       [1, 2, 2],\n",
       "       [4, 1, 4]], dtype=int32)"
      ]
     },
     "execution_count": 201,
     "metadata": {},
     "output_type": "execute_result"
    }
   ],
   "source": [
    "arr1 * arr2 # it is index wise multiplication"
   ]
  },
  {
   "cell_type": "code",
   "execution_count": 202,
   "id": "85ff1b9f-30ab-4364-962e-2d6477f3113d",
   "metadata": {},
   "outputs": [
    {
     "data": {
      "text/plain": [
       "array([[7, 7, 9],\n",
       "       [4, 4, 5],\n",
       "       [7, 6, 8]], dtype=int32)"
      ]
     },
     "execution_count": 202,
     "metadata": {},
     "output_type": "execute_result"
    }
   ],
   "source": [
    "np.dot(arr1,arr2) # another way of matrix multiplication"
   ]
  },
  {
   "cell_type": "code",
   "execution_count": 205,
   "id": "9ba6a0cd-8989-481e-b1ea-a1ae8b0edf60",
   "metadata": {},
   "outputs": [],
   "source": [
    "#Broad casting\n",
    "arr = np.zeros((3,4),dtype = int)"
   ]
  },
  {
   "cell_type": "code",
   "execution_count": 206,
   "id": "a1c19c1e-e76e-4333-80cb-23b45e40920b",
   "metadata": {},
   "outputs": [
    {
     "data": {
      "text/plain": [
       "array([[0, 0, 0, 0],\n",
       "       [0, 0, 0, 0],\n",
       "       [0, 0, 0, 0]])"
      ]
     },
     "execution_count": 206,
     "metadata": {},
     "output_type": "execute_result"
    }
   ],
   "source": [
    "arr"
   ]
  },
  {
   "cell_type": "code",
   "execution_count": 207,
   "id": "6f989d88-fcb2-4c0d-89e6-8b11167005ad",
   "metadata": {},
   "outputs": [
    {
     "data": {
      "text/plain": [
       "array([[5, 5, 5, 5],\n",
       "       [5, 5, 5, 5],\n",
       "       [5, 5, 5, 5]])"
      ]
     },
     "execution_count": 207,
     "metadata": {},
     "output_type": "execute_result"
    }
   ],
   "source": [
    "arr + 5"
   ]
  },
  {
   "cell_type": "code",
   "execution_count": 208,
   "id": "81698281-dcad-40bc-8479-d45b9541fa33",
   "metadata": {},
   "outputs": [],
   "source": [
    "a = np.array([1,2,3,4])"
   ]
  },
  {
   "cell_type": "code",
   "execution_count": 209,
   "id": "fd876646-a63e-4fc8-a063-0dc89dcac8cc",
   "metadata": {},
   "outputs": [
    {
     "data": {
      "text/plain": [
       "array([[1, 2, 3, 4],\n",
       "       [1, 2, 3, 4],\n",
       "       [1, 2, 3, 4]])"
      ]
     },
     "execution_count": 209,
     "metadata": {},
     "output_type": "execute_result"
    }
   ],
   "source": [
    "arr + a"
   ]
  },
  {
   "cell_type": "code",
   "execution_count": 210,
   "id": "4755e5c1-ddea-4ec3-a898-f23d76667195",
   "metadata": {},
   "outputs": [
    {
     "data": {
      "text/plain": [
       "array([1, 2, 3, 4])"
      ]
     },
     "execution_count": 210,
     "metadata": {},
     "output_type": "execute_result"
    }
   ],
   "source": [
    "#Transpose matrix >> converting rows to columns and columns to rows\n",
    "a.T"
   ]
  },
  {
   "cell_type": "code",
   "execution_count": null,
   "id": "5441ccbe-c879-4822-bc7d-ac981521736f",
   "metadata": {},
   "outputs": [],
   "source": [
    "A = np.array([[1,2,3,4]])"
   ]
  }
 ],
 "metadata": {
  "kernelspec": {
   "display_name": "Python [conda env:base] *",
   "language": "python",
   "name": "conda-base-py"
  },
  "language_info": {
   "codemirror_mode": {
    "name": "ipython",
    "version": 3
   },
   "file_extension": ".py",
   "mimetype": "text/x-python",
   "name": "python",
   "nbconvert_exporter": "python",
   "pygments_lexer": "ipython3",
   "version": "3.13.5"
  }
 },
 "nbformat": 4,
 "nbformat_minor": 5
}
