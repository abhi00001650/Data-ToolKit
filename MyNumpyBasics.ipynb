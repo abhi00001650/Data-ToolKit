{
 "cells": [
  {
   "cell_type": "code",
   "execution_count": 11,
   "id": "f548db18-0d6f-47b7-bc72-c978c5e5fb36",
   "metadata": {},
   "outputs": [],
   "source": [
    "#NumPy - It stands for numerical python \n",
    "#developed in 2005 by Travis Oliphant\n",
    "#before 2005 there were special mathematical tools(similar to Tora, Linga)"
   ]
  },
  {
   "cell_type": "code",
   "execution_count": 5,
   "id": "bf95eb9c-26a3-4dce-9595-f120b4e94a31",
   "metadata": {},
   "outputs": [],
   "source": [
    "import numpy as np "
   ]
  },
  {
   "cell_type": "code",
   "execution_count": 3,
   "id": "b09759f4-b863-49bb-90c4-ec30a87a79f1",
   "metadata": {},
   "outputs": [
    {
     "data": {
      "text/plain": [
       "'2.1.3'"
      ]
     },
     "execution_count": 3,
     "metadata": {},
     "output_type": "execute_result"
    }
   ],
   "source": [
    "np.__version__"
   ]
  },
  {
   "cell_type": "code",
   "execution_count": 4,
   "id": "37e231f8-c5aa-4a77-927f-6a4767671841",
   "metadata": {},
   "outputs": [
    {
     "name": "stdout",
     "output_type": "stream",
     "text": [
      "\n",
      "NumPy\n",
      "=====\n",
      "\n",
      "Provides\n",
      "  1. An array object of arbitrary homogeneous items\n",
      "  2. Fast mathematical operations over arrays\n",
      "  3. Linear Algebra, Fourier Transforms, Random Number Generation\n",
      "\n",
      "How to use the documentation\n",
      "----------------------------\n",
      "Documentation is available in two forms: docstrings provided\n",
      "with the code, and a loose standing reference guide, available from\n",
      "`the NumPy homepage <https://numpy.org>`_.\n",
      "\n",
      "We recommend exploring the docstrings using\n",
      "`IPython <https://ipython.org>`_, an advanced Python shell with\n",
      "TAB-completion and introspection capabilities.  See below for further\n",
      "instructions.\n",
      "\n",
      "The docstring examples assume that `numpy` has been imported as ``np``::\n",
      "\n",
      "  >>> import numpy as np\n",
      "\n",
      "Code snippets are indicated by three greater-than signs::\n",
      "\n",
      "  >>> x = 42\n",
      "  >>> x = x + 1\n",
      "\n",
      "Use the built-in ``help`` function to view a function's docstring::\n",
      "\n",
      "  >>> help(np.sort)\n",
      "  ... # doctest: +SKIP\n",
      "\n",
      "For some objects, ``np.info(obj)`` may provide additional help.  This is\n",
      "particularly true if you see the line \"Help on ufunc object:\" at the top\n",
      "of the help() page.  Ufuncs are implemented in C, not Python, for speed.\n",
      "The native Python help() does not know how to view their help, but our\n",
      "np.info() function does.\n",
      "\n",
      "Available subpackages\n",
      "---------------------\n",
      "lib\n",
      "    Basic functions used by several sub-packages.\n",
      "random\n",
      "    Core Random Tools\n",
      "linalg\n",
      "    Core Linear Algebra Tools\n",
      "fft\n",
      "    Core FFT routines\n",
      "polynomial\n",
      "    Polynomial tools\n",
      "testing\n",
      "    NumPy testing tools\n",
      "distutils\n",
      "    Enhancements to distutils with support for\n",
      "    Fortran compilers support and more (for Python <= 3.11)\n",
      "\n",
      "Utilities\n",
      "---------\n",
      "test\n",
      "    Run numpy unittests\n",
      "show_config\n",
      "    Show numpy build configuration\n",
      "__version__\n",
      "    NumPy version string\n",
      "\n",
      "Viewing documentation using IPython\n",
      "-----------------------------------\n",
      "\n",
      "Start IPython and import `numpy` usually under the alias ``np``: `import\n",
      "numpy as np`.  Then, directly past or use the ``%cpaste`` magic to paste\n",
      "examples into the shell.  To see which functions are available in `numpy`,\n",
      "type ``np.<TAB>`` (where ``<TAB>`` refers to the TAB key), or use\n",
      "``np.*cos*?<ENTER>`` (where ``<ENTER>`` refers to the ENTER key) to narrow\n",
      "down the list.  To view the docstring for a function, use\n",
      "``np.cos?<ENTER>`` (to view the docstring) and ``np.cos??<ENTER>`` (to view\n",
      "the source code).\n",
      "\n",
      "Copies vs. in-place operation\n",
      "-----------------------------\n",
      "Most of the functions in `numpy` return a copy of the array argument\n",
      "(e.g., `np.sort`).  In-place versions of these functions are often\n",
      "available as array methods, i.e. ``x = np.array([1,2,3]); x.sort()``.\n",
      "Exceptions to this rule are documented.\n",
      "\n",
      "\n"
     ]
    }
   ],
   "source": [
    "print(np.__doc__)"
   ]
  },
  {
   "cell_type": "code",
   "execution_count": 7,
   "id": "ea51e080-2f39-43b6-ab2a-31b8dfc91a68",
   "metadata": {},
   "outputs": [
    {
     "data": {
      "text/plain": [
       "list"
      ]
     },
     "execution_count": 7,
     "metadata": {},
     "output_type": "execute_result"
    }
   ],
   "source": [
    "lis = [1,2,3, \"Abhi\", True , 1+2j] # list stores heterogenous data\n",
    "type(lis)"
   ]
  },
  {
   "cell_type": "code",
   "execution_count": 8,
   "id": "879e1383-c3fe-422d-866d-f787f9c91c9e",
   "metadata": {},
   "outputs": [],
   "source": [
    "#NumPy stores the data in numpy array\n",
    "#Array - is a data structure used to store data of same datatype >> homogenous"
   ]
  },
  {
   "cell_type": "code",
   "execution_count": 10,
   "id": "c79fa373-430a-4e94-9b07-eef4c75cbbb1",
   "metadata": {},
   "outputs": [],
   "source": [
    "#why NumPy?? already we have list, C is one of the fastest programming language after C++\n",
    "#NumPy is built using C>> computation in NumPy is very fast \n",
    "# due to array >> since it stores only homogenous data , NumPy array is faster\n",
    "#Since it stores homogenous data >> it has continuous memory location "
   ]
  },
  {
   "cell_type": "code",
   "execution_count": 20,
   "id": "a6fb2f48-eaea-41c1-85b3-a23982d32ba4",
   "metadata": {},
   "outputs": [],
   "source": [
    "l = [1,2,3,4,5] # NumPy arrray is homogenous >> all element can be integer, float, string doesnt matter"
   ]
  },
  {
   "cell_type": "code",
   "execution_count": 16,
   "id": "4e7b5545-0eca-4311-8a0c-71024022a77c",
   "metadata": {},
   "outputs": [],
   "source": [
    "arr = np.array(l)"
   ]
  },
  {
   "cell_type": "code",
   "execution_count": 19,
   "id": "08833336-1aaf-4402-a6d1-64328dd561b9",
   "metadata": {},
   "outputs": [
    {
     "data": {
      "text/plain": [
       "numpy.ndarray"
      ]
     },
     "execution_count": 19,
     "metadata": {},
     "output_type": "execute_result"
    }
   ],
   "source": [
    "type(arr)\n",
    "#numpy.ndarray >> nd means N dimensional array\n"
   ]
  },
  {
   "cell_type": "code",
   "execution_count": 22,
   "id": "749e2b30-41b9-457e-a8b8-cdd1f774ccc6",
   "metadata": {},
   "outputs": [
    {
     "data": {
      "text/plain": [
       "array(['1', '2', '3', '4', '5', 'array'], dtype='<U21')"
      ]
     },
     "execution_count": 22,
     "metadata": {},
     "output_type": "execute_result"
    }
   ],
   "source": [
    "l = [1,2,3,4,5 , \"array\"] \n",
    "np.array(l)"
   ]
  },
  {
   "cell_type": "code",
   "execution_count": 23,
   "id": "5798f0ad-6059-4aae-a8a8-8f9e5e310352",
   "metadata": {},
   "outputs": [],
   "source": [
    "#array stores homogenous data if you store a string with integers it will convert everything to string"
   ]
  },
  {
   "cell_type": "code",
   "execution_count": 25,
   "id": "7300d6ee-39ab-4d9d-b87b-5c69caa0a95d",
   "metadata": {},
   "outputs": [
    {
     "data": {
      "text/plain": [
       "array([1. , 2. , 3. , 4. , 5. , 2.5])"
      ]
     },
     "execution_count": 25,
     "metadata": {},
     "output_type": "execute_result"
    }
   ],
   "source": [
    "l = [1,2,3,4,5 , 2.5]\n",
    "np.array(l) # now it becomes float"
   ]
  },
  {
   "cell_type": "code",
   "execution_count": 26,
   "id": "bc779683-08b9-4813-80dd-c72d725799a2",
   "metadata": {},
   "outputs": [
    {
     "data": {
      "text/plain": [
       "numpy.ndarray"
      ]
     },
     "execution_count": 26,
     "metadata": {},
     "output_type": "execute_result"
    }
   ],
   "source": [
    "type(arr)"
   ]
  },
  {
   "cell_type": "code",
   "execution_count": 27,
   "id": "bd759ec8-6664-43f8-bd85-f02c8a5cbfd7",
   "metadata": {},
   "outputs": [
    {
     "data": {
      "text/plain": [
       "array([1, 2, 3, 4, 5])"
      ]
     },
     "execution_count": 27,
     "metadata": {},
     "output_type": "execute_result"
    }
   ],
   "source": [
    "arr"
   ]
  },
  {
   "cell_type": "code",
   "execution_count": 30,
   "id": "311407b9-67be-4f82-ad55-84da7a583607",
   "metadata": {},
   "outputs": [
    {
     "data": {
      "text/plain": [
       "1"
      ]
     },
     "execution_count": 30,
     "metadata": {},
     "output_type": "execute_result"
    }
   ],
   "source": [
    "arr.ndim # it gives dimesion of the array # arr has only rows"
   ]
  },
  {
   "cell_type": "code",
   "execution_count": 31,
   "id": "2a355fc1-1bbe-4d5c-8844-4f5ebd4a8e96",
   "metadata": {},
   "outputs": [
    {
     "data": {
      "text/plain": [
       "array([[1, 2, 3],\n",
       "       [4, 5, 6]])"
      ]
     },
     "execution_count": 31,
     "metadata": {},
     "output_type": "execute_result"
    }
   ],
   "source": [
    "#defining 2 dimesional array\n",
    "np.array([[1,2,3],[4,5,6]])"
   ]
  },
  {
   "cell_type": "code",
   "execution_count": 32,
   "id": "b8dc985c-bc05-43bd-b7c0-28321cdcb111",
   "metadata": {},
   "outputs": [],
   "source": [
    "arr1 = np.array([[1,2,3],[4,5,6]])"
   ]
  },
  {
   "cell_type": "code",
   "execution_count": 33,
   "id": "0cf64daf-f9fa-4411-ba3e-768cb76b9053",
   "metadata": {},
   "outputs": [
    {
     "data": {
      "text/plain": [
       "2"
      ]
     },
     "execution_count": 33,
     "metadata": {},
     "output_type": "execute_result"
    }
   ],
   "source": [
    "arr1.ndim"
   ]
  },
  {
   "cell_type": "code",
   "execution_count": 35,
   "id": "ce893ac1-85df-4612-a244-347365248c2a",
   "metadata": {},
   "outputs": [],
   "source": [
    "mat = np.matrix([1,2,3,4]) # matrix > is a specialised 2 dimension"
   ]
  },
  {
   "cell_type": "code",
   "execution_count": 36,
   "id": "7116a194-0850-48b6-9138-03f0c24262cc",
   "metadata": {},
   "outputs": [
    {
     "data": {
      "text/plain": [
       "numpy.matrix"
      ]
     },
     "execution_count": 36,
     "metadata": {},
     "output_type": "execute_result"
    }
   ],
   "source": [
    "type(mat)"
   ]
  },
  {
   "cell_type": "code",
   "execution_count": 37,
   "id": "253e6cc2-bda7-4529-9049-df055241d3b8",
   "metadata": {},
   "outputs": [
    {
     "data": {
      "text/plain": [
       "2"
      ]
     },
     "execution_count": 37,
     "metadata": {},
     "output_type": "execute_result"
    }
   ],
   "source": [
    "mat.ndim"
   ]
  },
  {
   "cell_type": "code",
   "execution_count": 38,
   "id": "1d247888-651c-4823-a22d-3f0f068a7ebf",
   "metadata": {},
   "outputs": [
    {
     "data": {
      "text/plain": [
       "matrix([[1, 2, 3, 4]])"
      ]
     },
     "execution_count": 38,
     "metadata": {},
     "output_type": "execute_result"
    }
   ],
   "source": [
    "mat"
   ]
  },
  {
   "cell_type": "code",
   "execution_count": 40,
   "id": "3a76ec9e-964b-4838-88b9-c301c51ae777",
   "metadata": {},
   "outputs": [],
   "source": [
    "#To understand see the dimension , see the opening and closing square bracket"
   ]
  },
  {
   "cell_type": "code",
   "execution_count": null,
   "id": "8089444f-5806-4bb6-95bb-54cf7c66a0ee",
   "metadata": {},
   "outputs": [],
   "source": [
    "np.matrix([[[1,2],[3,4],[5,6]]]) #np.matrix([[[1,2],[3,4],[5,6]]]) gives error"
   ]
  },
  {
   "cell_type": "code",
   "execution_count": 42,
   "id": "89889cd9-26da-408d-9a10-80e20f073082",
   "metadata": {},
   "outputs": [],
   "source": [
    "arr3 = np.array([[[1,2],[3,4],[5,6]]])"
   ]
  },
  {
   "cell_type": "code",
   "execution_count": 43,
   "id": "667c7c29-974b-4bcc-963a-5a6e06100826",
   "metadata": {},
   "outputs": [
    {
     "data": {
      "text/plain": [
       "array([[[1, 2],\n",
       "        [3, 4],\n",
       "        [5, 6]]])"
      ]
     },
     "execution_count": 43,
     "metadata": {},
     "output_type": "execute_result"
    }
   ],
   "source": [
    "arr3"
   ]
  },
  {
   "cell_type": "code",
   "execution_count": 44,
   "id": "d3e3c444-3d88-4306-bca3-73a14ed05d28",
   "metadata": {},
   "outputs": [
    {
     "data": {
      "text/plain": [
       "3"
      ]
     },
     "execution_count": 44,
     "metadata": {},
     "output_type": "execute_result"
    }
   ],
   "source": [
    "arr3.ndim"
   ]
  },
  {
   "cell_type": "code",
   "execution_count": 46,
   "id": "f3ff0203-7f20-4883-92b9-ac1022df2e63",
   "metadata": {},
   "outputs": [
    {
     "data": {
      "text/plain": [
       "array([1, 2, 3])"
      ]
     },
     "execution_count": 46,
     "metadata": {},
     "output_type": "execute_result"
    }
   ],
   "source": [
    "#more to convert array\n",
    "l = [1,2,3]\n",
    "np.asarray(l) # initial function to convert to an array, np.array came after this"
   ]
  },
  {
   "cell_type": "code",
   "execution_count": 48,
   "id": "fbfa9858-1199-4151-b8e8-06cc69f1cd15",
   "metadata": {},
   "outputs": [
    {
     "data": {
      "text/plain": [
       "array([1, 2, 3])"
      ]
     },
     "execution_count": 48,
     "metadata": {},
     "output_type": "execute_result"
    }
   ],
   "source": [
    "np.asanyarray([1,2,3])#asanyarray will convert the imput to an array but if something is already an arrray it will just pass it"
   ]
  },
  {
   "cell_type": "code",
   "execution_count": 49,
   "id": "082a710c-6e19-4357-a62d-9570e8ba024f",
   "metadata": {},
   "outputs": [
    {
     "data": {
      "text/plain": [
       "array([1, 2, 3])"
      ]
     },
     "execution_count": 49,
     "metadata": {},
     "output_type": "execute_result"
    }
   ],
   "source": [
    "np.asanyarray([1,2,3])"
   ]
  },
  {
   "cell_type": "code",
   "execution_count": 50,
   "id": "35bd2fb2-ef9a-402b-9ce1-cba48a7fd854",
   "metadata": {},
   "outputs": [
    {
     "data": {
      "text/plain": [
       "matrix([[1, 2, 3, 4]])"
      ]
     },
     "execution_count": 50,
     "metadata": {},
     "output_type": "execute_result"
    }
   ],
   "source": [
    "np.asanyarray(mat)"
   ]
  },
  {
   "cell_type": "code",
   "execution_count": 51,
   "id": "67aa7ab7-a327-445f-96f0-e13da16264f6",
   "metadata": {},
   "outputs": [
    {
     "data": {
      "text/plain": [
       "tuple"
      ]
     },
     "execution_count": 51,
     "metadata": {},
     "output_type": "execute_result"
    }
   ],
   "source": [
    "#converting a tuple into array\n",
    "t = ([1,2,3],[4,5,6])\n",
    "type(t)"
   ]
  },
  {
   "cell_type": "code",
   "execution_count": 52,
   "id": "b16bfd93-dc14-4587-a0e9-dae5d38a34db",
   "metadata": {},
   "outputs": [
    {
     "data": {
      "text/plain": [
       "array([[1, 2, 3],\n",
       "       [4, 5, 6]])"
      ]
     },
     "execution_count": 52,
     "metadata": {},
     "output_type": "execute_result"
    }
   ],
   "source": [
    "np.array(t)"
   ]
  },
  {
   "cell_type": "code",
   "execution_count": 54,
   "id": "f8d44b70-0961-4826-9e2b-9998f13084b1",
   "metadata": {},
   "outputs": [
    {
     "data": {
      "text/plain": [
       "array([1, 2, 3, 4, 5])"
      ]
     },
     "execution_count": 54,
     "metadata": {},
     "output_type": "execute_result"
    }
   ],
   "source": [
    "#accessing the elements of the array\n",
    "arr"
   ]
  },
  {
   "cell_type": "code",
   "execution_count": 55,
   "id": "d297470d-2d3e-4f20-8986-abcac6cf19e9",
   "metadata": {},
   "outputs": [
    {
     "data": {
      "text/plain": [
       "np.int64(1)"
      ]
     },
     "execution_count": 55,
     "metadata": {},
     "output_type": "execute_result"
    }
   ],
   "source": [
    "arr[0]"
   ]
  },
  {
   "cell_type": "code",
   "execution_count": 56,
   "id": "387adfdf-9fb0-4506-8408-65e1ed17b1cd",
   "metadata": {},
   "outputs": [],
   "source": [
    "#array is mutable\n",
    "arr[0]= 100"
   ]
  },
  {
   "cell_type": "code",
   "execution_count": 57,
   "id": "7f6ab0ea-cc16-4c10-aebd-357df4f67518",
   "metadata": {},
   "outputs": [
    {
     "data": {
      "text/plain": [
       "array([100,   2,   3,   4,   5])"
      ]
     },
     "execution_count": 57,
     "metadata": {},
     "output_type": "execute_result"
    }
   ],
   "source": [
    "arr"
   ]
  },
  {
   "cell_type": "code",
   "execution_count": 58,
   "id": "063f7fb3-fb6f-49da-951b-741b594b9ede",
   "metadata": {},
   "outputs": [],
   "source": [
    "#Concept of deep copy and shallow copy\n",
    "# a and arr will point to same memory location and if there is change in a or arr it will reflect on both\n"
   ]
  },
  {
   "cell_type": "code",
   "execution_count": 64,
   "id": "442adcfd-df3c-4359-a76e-79d9249fc93e",
   "metadata": {},
   "outputs": [],
   "source": [
    "a = arr #shallow copy>> change in one array will lead to change in another "
   ]
  },
  {
   "cell_type": "code",
   "execution_count": 61,
   "id": "e343b469-3d1a-425b-aca7-4ce69d3f6570",
   "metadata": {},
   "outputs": [
    {
     "data": {
      "text/plain": [
       "array([100,   2,   3,   4,   5])"
      ]
     },
     "execution_count": 61,
     "metadata": {},
     "output_type": "execute_result"
    }
   ],
   "source": [
    "a"
   ]
  },
  {
   "cell_type": "code",
   "execution_count": 62,
   "id": "973e5807-595d-4ea8-8519-c941813d2b34",
   "metadata": {},
   "outputs": [
    {
     "data": {
      "text/plain": [
       "array([100,   2,   3,   4,   5])"
      ]
     },
     "execution_count": 62,
     "metadata": {},
     "output_type": "execute_result"
    }
   ],
   "source": [
    "arr"
   ]
  },
  {
   "cell_type": "code",
   "execution_count": 68,
   "id": "6241ddd7-facd-4872-bb1e-dcba60d3c690",
   "metadata": {},
   "outputs": [],
   "source": [
    "a[0] = 5000 # it changes 1st position for both"
   ]
  },
  {
   "cell_type": "code",
   "execution_count": 66,
   "id": "f4a4ad01-5dc7-4264-b423-3a33101265df",
   "metadata": {},
   "outputs": [
    {
     "data": {
      "text/plain": [
       "array([5000,    2,    3,    4,    5])"
      ]
     },
     "execution_count": 66,
     "metadata": {},
     "output_type": "execute_result"
    }
   ],
   "source": [
    "a"
   ]
  },
  {
   "cell_type": "code",
   "execution_count": 67,
   "id": "ee87737c-21d1-4bec-a65c-25d1f1200c02",
   "metadata": {},
   "outputs": [
    {
     "data": {
      "text/plain": [
       "array([5000,    2,    3,    4,    5])"
      ]
     },
     "execution_count": 67,
     "metadata": {},
     "output_type": "execute_result"
    }
   ],
   "source": [
    "arr"
   ]
  },
  {
   "cell_type": "code",
   "execution_count": 78,
   "id": "61564f01-ca60-490f-a684-c3a32ad8fe68",
   "metadata": {},
   "outputs": [],
   "source": [
    "#Deep Copy # change in one copy will not reflect in another\n",
    "b = arr.copy()"
   ]
  },
  {
   "cell_type": "code",
   "execution_count": 71,
   "id": "1ebed402-8d82-4096-8415-8083e9f06412",
   "metadata": {},
   "outputs": [
    {
     "data": {
      "text/plain": [
       "array([5000,    2,    3,    4,    5])"
      ]
     },
     "execution_count": 71,
     "metadata": {},
     "output_type": "execute_result"
    }
   ],
   "source": [
    "b"
   ]
  },
  {
   "cell_type": "code",
   "execution_count": 73,
   "id": "71209bc0-632f-48bf-abee-41b507e30552",
   "metadata": {},
   "outputs": [],
   "source": [
    "b[0] = 11000"
   ]
  },
  {
   "cell_type": "code",
   "execution_count": 77,
   "id": "ad4cde32-7140-4f17-bb15-e5d5e9224e2f",
   "metadata": {},
   "outputs": [
    {
     "data": {
      "text/plain": [
       "array([11000,     2,     3,     4,     5])"
      ]
     },
     "execution_count": 77,
     "metadata": {},
     "output_type": "execute_result"
    }
   ],
   "source": [
    "b # it changes "
   ]
  },
  {
   "cell_type": "code",
   "execution_count": 76,
   "id": "d927c6eb-3305-442f-9e23-10428f6f3764",
   "metadata": {},
   "outputs": [
    {
     "data": {
      "text/plain": [
       "array([5000,    2,    3,    4,    5])"
      ]
     },
     "execution_count": 76,
     "metadata": {},
     "output_type": "execute_result"
    }
   ],
   "source": [
    "arr#it doesnt "
   ]
  },
  {
   "cell_type": "code",
   "execution_count": 79,
   "id": "fda55978-35ba-4f66-b21b-5d268abb5dbc",
   "metadata": {},
   "outputs": [],
   "source": [
    "#To create an array>> np.array , np.asarray, np.asanyarray"
   ]
  },
  {
   "cell_type": "code",
   "execution_count": 80,
   "id": "5e87cc2c-e518-4de3-a609-699830cb9ed2",
   "metadata": {},
   "outputs": [],
   "source": [
    "#multiple approach to generate any array"
   ]
  },
  {
   "cell_type": "code",
   "execution_count": 101,
   "id": "850049c1-1de6-4d55-9669-ad10e8b541f4",
   "metadata": {},
   "outputs": [
    {
     "data": {
      "text/plain": [
       "array([[ True, False, False],\n",
       "       [False,  True, False],\n",
       "       [False, False,  True]])"
      ]
     },
     "execution_count": 101,
     "metadata": {},
     "output_type": "execute_result"
    }
   ],
   "source": [
    "np.fromfunction(lambda i , j : i==j , (3,3)) #construct an array by executing a function over each coordination"
   ]
  },
  {
   "cell_type": "code",
   "execution_count": 99,
   "id": "e029994f-dad2-415b-b5e1-91a72b149562",
   "metadata": {},
   "outputs": [
    {
     "data": {
      "text/plain": [
       "array([[0., 0.],\n",
       "       [1., 1.]])"
      ]
     },
     "execution_count": 99,
     "metadata": {},
     "output_type": "execute_result"
    }
   ],
   "source": [
    " np.fromfunction(lambda x,y :np.where(x < 2, x, 0), (2,2))"
   ]
  },
  {
   "cell_type": "code",
   "execution_count": 98,
   "id": "c43174a8-cd44-4efd-aeac-d5c5a787e554",
   "metadata": {},
   "outputs": [
    {
     "data": {
      "text/plain": [
       "2"
      ]
     },
     "execution_count": 98,
     "metadata": {},
     "output_type": "execute_result"
    }
   ],
   "source": [
    "arr1.ndim"
   ]
  },
  {
   "cell_type": "code",
   "execution_count": 102,
   "id": "5f67887d-fdda-4542-9b47-79c6cab6b86d",
   "metadata": {},
   "outputs": [],
   "source": [
    "arr2 = np.fromfunction(lambda i , j : i==j , (3,3))"
   ]
  },
  {
   "cell_type": "code",
   "execution_count": 103,
   "id": "63dc77ca-46a7-449d-90b0-eb89464c9af8",
   "metadata": {},
   "outputs": [
    {
     "data": {
      "text/plain": [
       "2"
      ]
     },
     "execution_count": 103,
     "metadata": {},
     "output_type": "execute_result"
    }
   ],
   "source": [
    "arr2.ndim"
   ]
  },
  {
   "cell_type": "code",
   "execution_count": 106,
   "id": "04e0019f-5a83-4bec-bc58-32b0b17abe88",
   "metadata": {},
   "outputs": [
    {
     "data": {
      "text/plain": [
       "(3, 3)"
      ]
     },
     "execution_count": 106,
     "metadata": {},
     "output_type": "execute_result"
    }
   ],
   "source": [
    "arr2.shape # shape of array"
   ]
  },
  {
   "cell_type": "code",
   "execution_count": 108,
   "id": "fef84536-0614-4f4b-8ebc-d89de3dcc433",
   "metadata": {},
   "outputs": [
    {
     "data": {
      "text/plain": [
       "9"
      ]
     },
     "execution_count": 108,
     "metadata": {},
     "output_type": "execute_result"
    }
   ],
   "source": [
    "arr2.size# number of elements in array"
   ]
  },
  {
   "cell_type": "code",
   "execution_count": 110,
   "id": "db41f95c-0431-4336-b017-a03ae11681b9",
   "metadata": {},
   "outputs": [
    {
     "data": {
      "text/plain": [
       "array([[0., 0., 0.],\n",
       "       [0., 1., 2.],\n",
       "       [0., 2., 4.]])"
      ]
     },
     "execution_count": 110,
     "metadata": {},
     "output_type": "execute_result"
    }
   ],
   "source": [
    "#True is stored as 1 and false is stored as 0 \n",
    "np.fromfunction(lambda i,j :i*j, (3,3))"
   ]
  },
  {
   "cell_type": "code",
   "execution_count": 111,
   "id": "2127fd23-7ac4-4350-b887-2d0503e8678b",
   "metadata": {},
   "outputs": [],
   "source": [
    "arr4 = np.fromfunction(lambda i,j :i*j, (3,3))"
   ]
  },
  {
   "cell_type": "code",
   "execution_count": 112,
   "id": "8af39a41-e901-4cb6-bd44-6c0fb89503b3",
   "metadata": {},
   "outputs": [
    {
     "data": {
      "text/plain": [
       "2"
      ]
     },
     "execution_count": 112,
     "metadata": {},
     "output_type": "execute_result"
    }
   ],
   "source": [
    "arr4.ndim"
   ]
  },
  {
   "cell_type": "code",
   "execution_count": 113,
   "id": "979dc8f4-c298-4dad-8b3c-2b693b79b67d",
   "metadata": {},
   "outputs": [
    {
     "data": {
      "text/plain": [
       "(3, 3)"
      ]
     },
     "execution_count": 113,
     "metadata": {},
     "output_type": "execute_result"
    }
   ],
   "source": [
    "\n",
    "arr4.shape"
   ]
  },
  {
   "cell_type": "code",
   "execution_count": 114,
   "id": "2e547128-6bca-40fc-af2f-1f32489bdd6c",
   "metadata": {},
   "outputs": [
    {
     "data": {
      "text/plain": [
       "9"
      ]
     },
     "execution_count": 114,
     "metadata": {},
     "output_type": "execute_result"
    }
   ],
   "source": [
    "arr4.size"
   ]
  },
  {
   "cell_type": "code",
   "execution_count": 115,
   "id": "57072fbb-0f23-4ef6-af52-f5179cf19374",
   "metadata": {},
   "outputs": [
    {
     "name": "stdout",
     "output_type": "stream",
     "text": [
      "0\n",
      "1\n",
      "2\n",
      "3\n",
      "4\n"
     ]
    }
   ],
   "source": [
    "for i in range(5):\n",
    "    print(i)"
   ]
  },
  {
   "cell_type": "code",
   "execution_count": 116,
   "id": "77d9e728-901c-4087-8e6f-bab323457564",
   "metadata": {},
   "outputs": [
    {
     "data": {
      "text/plain": [
       "[0, 1, 2, 3, 4]"
      ]
     },
     "execution_count": 116,
     "metadata": {},
     "output_type": "execute_result"
    }
   ],
   "source": [
    "[i for i in range(5)]"
   ]
  },
  {
   "cell_type": "code",
   "execution_count": 1,
   "id": "a9bd1b50-79eb-4479-9cf8-ec4f50eb59bf",
   "metadata": {},
   "outputs": [
    {
     "data": {
      "text/plain": [
       "[0, 1, 2, 3, 4]"
      ]
     },
     "execution_count": 1,
     "metadata": {},
     "output_type": "execute_result"
    }
   ],
   "source": [
    "list((i for i in range(5)))"
   ]
  },
  {
   "cell_type": "code",
   "execution_count": 2,
   "id": "80e882ba-eb15-4ce4-95b6-a37be43877a8",
   "metadata": {},
   "outputs": [],
   "source": [
    "iterator = (i for i in range(5))"
   ]
  },
  {
   "cell_type": "code",
   "execution_count": 3,
   "id": "b26eea89-8403-40e2-bcb2-5b0c25ac6014",
   "metadata": {},
   "outputs": [
    {
     "data": {
      "text/plain": [
       "<generator object <genexpr> at 0x000002D001EC1480>"
      ]
     },
     "execution_count": 3,
     "metadata": {},
     "output_type": "execute_result"
    }
   ],
   "source": [
    "iterator"
   ]
  },
  {
   "cell_type": "code",
   "execution_count": 6,
   "id": "9d4631da-f6a1-4f9f-b0ef-61309f83021c",
   "metadata": {},
   "outputs": [
    {
     "data": {
      "text/plain": [
       "array([0, 1, 2, 3, 4])"
      ]
     },
     "execution_count": 6,
     "metadata": {},
     "output_type": "execute_result"
    }
   ],
   "source": [
    "np.fromiter(iterator, int)"
   ]
  },
  {
   "cell_type": "code",
   "execution_count": 7,
   "id": "5d4b4f14-1ee7-4699-b2b8-9326dfe0372c",
   "metadata": {},
   "outputs": [
    {
     "data": {
      "text/plain": [
       "array([22., 23., 24.])"
      ]
     },
     "execution_count": 7,
     "metadata": {},
     "output_type": "execute_result"
    }
   ],
   "source": [
    "np.fromstring(' 22 23 24 ', sep = \" \")"
   ]
  },
  {
   "cell_type": "code",
   "execution_count": 9,
   "id": "fdab211c-0948-431f-9334-581d1bd16ec8",
   "metadata": {},
   "outputs": [
    {
     "data": {
      "text/plain": [
       "array([22, 23, 24])"
      ]
     },
     "execution_count": 9,
     "metadata": {},
     "output_type": "execute_result"
    }
   ],
   "source": [
    "np.fromstring(' 22 23 24 ', sep = \" \" , dtype = int) # by default it is float"
   ]
  },
  {
   "cell_type": "code",
   "execution_count": 10,
   "id": "a8be6191-18ea-4dbe-b826-0f36f4400dd5",
   "metadata": {},
   "outputs": [
    {
     "data": {
      "text/plain": [
       "['Abhi ', ' Khush ', ' Kartik']"
      ]
     },
     "execution_count": 10,
     "metadata": {},
     "output_type": "execute_result"
    }
   ],
   "source": [
    "#for string you have to use split\n",
    "string = \"Abhi , Khush , Kartik\"\n",
    "string.split(\",\")"
   ]
  },
  {
   "cell_type": "code",
   "execution_count": 12,
   "id": "58fa8917-1c92-4b62-8098-bd8a8c25f707",
   "metadata": {},
   "outputs": [
    {
     "data": {
      "text/plain": [
       "array(['Abhi ', ' Khush ', ' Kartik'], dtype='<U7')"
      ]
     },
     "execution_count": 12,
     "metadata": {},
     "output_type": "execute_result"
    }
   ],
   "source": [
    "np.array(string.split(\",\"))"
   ]
  },
  {
   "cell_type": "code",
   "execution_count": 13,
   "id": "b3ded2c9-ba2f-4993-9601-9cfa08e3cc81",
   "metadata": {},
   "outputs": [
    {
     "data": {
      "text/plain": [
       "range(0, 10)"
      ]
     },
     "execution_count": 13,
     "metadata": {},
     "output_type": "execute_result"
    }
   ],
   "source": [
    "range(10)"
   ]
  },
  {
   "cell_type": "code",
   "execution_count": 16,
   "id": "3569f8f5-60b8-4a0b-a926-c32cd65e342d",
   "metadata": {},
   "outputs": [
    {
     "data": {
      "text/plain": [
       "[0, 1, 2, 3, 4, 5, 6, 7, 8, 9]"
      ]
     },
     "execution_count": 16,
     "metadata": {},
     "output_type": "execute_result"
    }
   ],
   "source": [
    "list(range(10))"
   ]
  },
  {
   "cell_type": "code",
   "execution_count": 17,
   "id": "02b752bc-4dd5-49aa-99c2-3cc2849e496c",
   "metadata": {},
   "outputs": [
    {
     "data": {
      "text/plain": [
       "array([1, 2, 3, 4, 5, 6, 7, 8, 9])"
      ]
     },
     "execution_count": 17,
     "metadata": {},
     "output_type": "execute_result"
    }
   ],
   "source": [
    "#other method to generate a sequence of number\n",
    "np.arange(1,10)"
   ]
  },
  {
   "cell_type": "code",
   "execution_count": 18,
   "id": "66950a00-9f51-49e8-9818-8bf2111f9019",
   "metadata": {},
   "outputs": [
    {
     "data": {
      "text/plain": [
       "array([1. , 1.1, 1.2, 1.3, 1.4, 1.5, 1.6, 1.7, 1.8, 1.9, 2. , 2.1, 2.2,\n",
       "       2.3, 2.4, 2.5, 2.6, 2.7, 2.8, 2.9, 3. , 3.1, 3.2, 3.3, 3.4, 3.5,\n",
       "       3.6, 3.7, 3.8, 3.9, 4. , 4.1, 4.2, 4.3, 4.4, 4.5, 4.6, 4.7, 4.8,\n",
       "       4.9, 5. , 5.1, 5.2, 5.3, 5.4, 5.5, 5.6, 5.7, 5.8, 5.9, 6. , 6.1,\n",
       "       6.2, 6.3, 6.4, 6.5, 6.6, 6.7, 6.8, 6.9, 7. , 7.1, 7.2, 7.3, 7.4,\n",
       "       7.5, 7.6, 7.7, 7.8, 7.9, 8. , 8.1, 8.2, 8.3, 8.4, 8.5, 8.6, 8.7,\n",
       "       8.8, 8.9, 9. , 9.1, 9.2, 9.3, 9.4, 9.5, 9.6, 9.7, 9.8, 9.9])"
      ]
     },
     "execution_count": 18,
     "metadata": {},
     "output_type": "execute_result"
    }
   ],
   "source": [
    "np.arange(1,10,0.1)"
   ]
  },
  {
   "cell_type": "code",
   "execution_count": 19,
   "id": "934d9f6d-10df-4445-986e-d7aebb374220",
   "metadata": {},
   "outputs": [
    {
     "data": {
      "text/plain": [
       "array([1.        , 1.44444444, 1.88888889, 2.33333333, 2.77777778,\n",
       "       3.22222222, 3.66666667, 4.11111111, 4.55555556, 5.        ])"
      ]
     },
     "execution_count": 19,
     "metadata": {},
     "output_type": "execute_result"
    }
   ],
   "source": [
    "np.linspace(1,5,10) # give me 10 numbers between 1 and 5"
   ]
  },
  {
   "cell_type": "code",
   "execution_count": null,
   "id": "0e8bca54-760b-4743-a3ef-c631c746f581",
   "metadata": {},
   "outputs": [],
   "source": []
  }
 ],
 "metadata": {
  "kernelspec": {
   "display_name": "Python [conda env:base] *",
   "language": "python",
   "name": "conda-base-py"
  },
  "language_info": {
   "codemirror_mode": {
    "name": "ipython",
    "version": 3
   },
   "file_extension": ".py",
   "mimetype": "text/x-python",
   "name": "python",
   "nbconvert_exporter": "python",
   "pygments_lexer": "ipython3",
   "version": "3.13.5"
  }
 },
 "nbformat": 4,
 "nbformat_minor": 5
}
